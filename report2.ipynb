{
  "nbformat": 4,
  "nbformat_minor": 0,
  "metadata": {
    "colab": {
      "name": "SMILES",
      "provenance": [],
      "collapsed_sections": []
    },
    "kernelspec": {
      "name": "python3",
      "display_name": "Python 3"
    }
  },
  "cells": [
    {
      "cell_type": "code",
      "metadata": {
        "id": "jL9YUjCC_11x",
        "colab_type": "code",
        "outputId": "8db622bd-b548-4801-96c6-f99762ed0592",
        "colab": {
          "base_uri": "https://localhost:8080/",
          "height": 53
        }
      },
      "source": [
        "import sys\n",
        "import os\n",
        "import requests\n",
        "import subprocess\n",
        "import shutil\n",
        "from logging import getLogger, StreamHandler, INFO\n",
        "\n",
        "\n",
        "logger = getLogger(__name__)\n",
        "logger.addHandler(StreamHandler())\n",
        "logger.setLevel(INFO)\n",
        "\n",
        "\n",
        "def install(\n",
        "        chunk_size=4096,\n",
        "        file_name=\"Miniconda3-latest-Linux-x86_64.sh\",\n",
        "        url_base=\"https://repo.continuum.io/miniconda/\",\n",
        "        conda_path=os.path.expanduser(os.path.join(\"~\", \"miniconda\")),\n",
        "        rdkit_version=None,\n",
        "        add_python_path=True,\n",
        "        force=False):\n",
        "    \"\"\"install rdkit from miniconda\n",
        "    ```\n",
        "    import rdkit_installer\n",
        "    rdkit_installer.install()\n",
        "    ```\n",
        "    \"\"\"\n",
        "\n",
        "    python_path = os.path.join(\n",
        "        conda_path,\n",
        "        \"lib\",\n",
        "        \"python{0}.{1}\".format(*sys.version_info),\n",
        "        \"site-packages\",\n",
        "    )\n",
        "\n",
        "    if add_python_path and python_path not in sys.path:\n",
        "        logger.info(\"add {} to PYTHONPATH\".format(python_path))\n",
        "        sys.path.append(python_path)\n",
        "\n",
        "    if os.path.isdir(os.path.join(python_path, \"rdkit\")):\n",
        "        logger.info(\"rdkit is already installed\")\n",
        "        if not force:\n",
        "            return\n",
        "\n",
        "        logger.info(\"force re-install\")\n",
        "\n",
        "    url = url_base + file_name\n",
        "    python_version = \"{0}.{1}.{2}\".format(*sys.version_info)\n",
        "\n",
        "    logger.info(\"python version: {}\".format(python_version))\n",
        "\n",
        "    if os.path.isdir(conda_path):\n",
        "        logger.warning(\"remove current miniconda\")\n",
        "        shutil.rmtree(conda_path)\n",
        "    elif os.path.isfile(conda_path):\n",
        "        logger.warning(\"remove {}\".format(conda_path))\n",
        "        os.remove(conda_path)\n",
        "\n",
        "    logger.info('fetching installer from {}'.format(url))\n",
        "    res = requests.get(url, stream=True)\n",
        "    res.raise_for_status()\n",
        "    with open(file_name, 'wb') as f:\n",
        "        for chunk in res.iter_content(chunk_size):\n",
        "            f.write(chunk)\n",
        "    logger.info('done')\n",
        "\n",
        "    logger.info('installing miniconda to {}'.format(conda_path))\n",
        "    subprocess.check_call([\"bash\", file_name, \"-b\", \"-p\", conda_path])\n",
        "    logger.info('done')\n",
        "\n",
        "    logger.info(\"installing rdkit\")\n",
        "    subprocess.check_call([\n",
        "        os.path.join(conda_path, \"bin\", \"conda\"),\n",
        "        \"install\",\n",
        "        \"--yes\",\n",
        "        \"-c\", \"rdkit\",\n",
        "        \"python=={}\".format(python_version),\n",
        "        \"rdkit\" if rdkit_version is None else \"rdkit=={}\".format(rdkit_version)])\n",
        "    logger.info(\"done\")\n",
        "\n",
        "    import rdkit\n",
        "    logger.info(\"rdkit-{} installation finished!\".format(rdkit.__version__))\n",
        "\n",
        "\n",
        "if __name__ == \"__main__\":\n",
        "    install()"
      ],
      "execution_count": 3,
      "outputs": [
        {
          "output_type": "stream",
          "text": [
            "rdkit is already installed\n",
            "rdkit is already installed\n"
          ],
          "name": "stderr"
        }
      ]
    },
    {
      "cell_type": "code",
      "metadata": {
        "id": "9WcT_Cc3Jh_y",
        "colab_type": "code",
        "colab": {}
      },
      "source": [
        "#RDkit 적용\n",
        "from __future__ import print_function\n",
        "from rdkit import Chem\n",
        "from rdkit.Chem import AllChem\n",
        "from rdkit.Chem.Draw import IPythonConsole\n",
        "from rdkit.Chem import Draw"
      ],
      "execution_count": 0,
      "outputs": []
    },
    {
      "cell_type": "markdown",
      "metadata": {
        "id": "GouPk2u-KrM4",
        "colab_type": "text"
      },
      "source": [
        "##Ⅰ SMILES-A Simplified Chemical Language\n",
        "SMILES(Simplified Moledcular Input Line Entry System)\n",
        "<br> 분자와 반응을 입력하고 나타내는 줄 표기법입니다.\n",
        "SMILES는 컴퓨터 데이터 구조가 아니라 언어 구조이기 때문에 유용하게 쓰입니다. 구조에 대한 SMILES 표현은 많은 화학 정보를 포함하고 있습니다. 각 분자는 고유한 SMILES가 존재함으로 인하여 이것으로 인해 이 분자의 모양을 알 수 있습니다. 또한 SMILES를 이용하면 같은 구조를 나타내는데에 필요한 용량이 적습니다.\n",
        "###SMILES의 예시\n",
        "\n",
        "\n",
        "\n",
        "\n"
      ]
    },
    {
      "cell_type": "code",
      "metadata": {
        "id": "71auulHyyt--",
        "colab_type": "code",
        "colab": {
          "base_uri": "https://localhost:8080/",
          "height": 167
        },
        "outputId": "b8125ce9-4574-42ad-e238-54b7e79dbd8e"
      },
      "source": [
        "Chem.MolFromSmiles('CC') #ethane"
      ],
      "execution_count": 7,
      "outputs": [
        {
          "output_type": "execute_result",
          "data": {
            "image/png": "[encoded data removed]",
            "text/plain": [
              "<rdkit.Chem.rdchem.Mol at 0x7f2204d55cb0>"
            ]
          },
          "metadata": {
            "tags": []
          },
          "execution_count": 7
        }
      ]
    },
    {
      "cell_type": "code",
      "metadata": {
        "id": "41D5F64s01pP",
        "colab_type": "code",
        "colab": {
          "base_uri": "https://localhost:8080/",
          "height": 167
        },
        "outputId": "d52ce406-570f-4733-c3f7-88688d287ab1"
      },
      "source": [
        "Chem.MolFromSmiles('O=C=O') #carbon dioxide"
      ],
      "execution_count": 8,
      "outputs": [
        {
          "output_type": "execute_result",
          "data": {
            "image/png": "[encoded data removed]",
            "text/plain": [
              "<rdkit.Chem.rdchem.Mol at 0x7f2203405530>"
            ]
          },
          "metadata": {
            "tags": []
          },
          "execution_count": 8
        }
      ]
    },
    {
      "cell_type": "code",
      "metadata": {
        "id": "feIvpU5A0_nd",
        "colab_type": "code",
        "colab": {
          "base_uri": "https://localhost:8080/",
          "height": 167
        },
        "outputId": "c0b05972-475c-4c8e-cc60-f9fc72031e00"
      },
      "source": [
        "Chem.MolFromSmiles('[OH3+]') #hydronium ion"
      ],
      "execution_count": 10,
      "outputs": [
        {
          "output_type": "execute_result",
          "data": {
            "image/png": "[encoded data removed]",
            "text/plain": [
              "<rdkit.Chem.rdchem.Mol at 0x7f220340fc10>"
            ]
          },
          "metadata": {
            "tags": []
          },
          "execution_count": 10
        }
      ]
    },
    {
      "cell_type": "code",
      "metadata": {
        "id": "-3ySZVS91FxX",
        "colab_type": "code",
        "colab": {
          "base_uri": "https://localhost:8080/",
          "height": 167
        },
        "outputId": "eb78cb5e-bab5-422c-b662-e45c1fff3e35"
      },
      "source": [
        "Chem.MolFromSmiles('[235U]') #uranium-235"
      ],
      "execution_count": 12,
      "outputs": [
        {
          "output_type": "execute_result",
          "data": {
            "image/png": "[encoded data removed]",
            "text/plain": [
              "<rdkit.Chem.rdchem.Mol at 0x7f2203418490>"
            ]
          },
          "metadata": {
            "tags": []
          },
          "execution_count": 12
        }
      ]
    },
    {
      "cell_type": "code",
      "metadata": {
        "id": "TSqf-QGX1N2f",
        "colab_type": "code",
        "colab": {
          "base_uri": "https://localhost:8080/",
          "height": 167
        },
        "outputId": "c6c10fd9-55c8-47a9-f04d-e9c98593172c"
      },
      "source": [
        "AllChem.ReactionFromSmarts('(C(=O)O).(OCC)>>(C(=O)OCC).(O)')"
      ],
      "execution_count": 15,
      "outputs": [
        {
          "output_type": "execute_result",
          "data": {
            "image/png": "[encoded data removed]",
            "text/plain": [
              "<rdkit.Chem.rdChemReactions.ChemicalReaction at 0x7f2203418670>"
            ]
          },
          "metadata": {
            "tags": []
          },
          "execution_count": 15
        }
      ]
    },
    {
      "cell_type": "markdown",
      "metadata": {
        "id": "YLHrGf7cykwq",
        "colab_type": "text"
      },
      "source": [
        "###SMILES를 사용하는 예시\n",
        "\n",
        "\n",
        "1.   데이터베이스 액세스를 위한 키\n",
        "2.   연구원들이 화학 정보를 교환하는 메커니즘\n",
        "3.   화학 데이터 입력 시스템\n",
        "4.   인공 지능 또는 화학 전문가 시스템 언어의 일부 \n"
      ]
    },
    {
      "cell_type": "markdown",
      "metadata": {
        "id": "jPWdfpbvR7KX",
        "colab_type": "text"
      },
      "source": [
        "##Canoncalization(정규화)\n",
        "  SMILES는 분자 구조를 선 2차원 그림으로써 분자 구조를 나타냅니다. 카이랄 또는 동위 원소 정보는 없이 원자 및 결합만 나타내는 SMILES를 generic SMILES이라고 하고 하나의 특수한 일반 SMILES를 생성하기 위한 표준화 알고리즘을 Unique SMILES, 동위 원소 및 카이랄을 나타내는 SMILES를 isomeric SMILES라고 합니다. Unique isomeric SMILES를 absolute SMILES라고 합니다.\n"
      ]
    },
    {
      "cell_type": "code",
      "metadata": {
        "id": "176EJmeV1qyE",
        "colab_type": "code",
        "colab": {
          "base_uri": "https://localhost:8080/",
          "height": 167
        },
        "outputId": "e10d714d-181f-4526-d16f-7a52fe69ddbb"
      },
      "source": [
        "Chem.MolFromSmiles('OCC')"
      ],
      "execution_count": 16,
      "outputs": [
        {
          "output_type": "execute_result",
          "data": {
            "image/png": "[encoded data removed]",
            "text/plain": [
              "<rdkit.Chem.rdchem.Mol at 0x7f220339c210>"
            ]
          },
          "metadata": {
            "tags": []
          },
          "execution_count": 16
        }
      ]
    },
    {
      "cell_type": "code",
      "metadata": {
        "id": "r8EZuv511wfZ",
        "colab_type": "code",
        "colab": {
          "base_uri": "https://localhost:8080/",
          "height": 167
        },
        "outputId": "39341866-1085-4d07-c44f-9d3fdaac1947"
      },
      "source": [
        "Chem.MolFromSmiles('[CH3][CH2][OH]')"
      ],
      "execution_count": 17,
      "outputs": [
        {
          "output_type": "execute_result",
          "data": {
            "image/png": "[encoded data removed]",
            "text/plain": [
              "<rdkit.Chem.rdchem.Mol at 0x7f220339c440>"
            ]
          },
          "metadata": {
            "tags": []
          },
          "execution_count": 17
        }
      ]
    },
    {
      "cell_type": "code",
      "metadata": {
        "id": "iPNwH7oG104l",
        "colab_type": "code",
        "colab": {
          "base_uri": "https://localhost:8080/",
          "height": 167
        },
        "outputId": "550337c3-7f42-40e0-f689-02fe26e600d6"
      },
      "source": [
        "Chem.MolFromSmiles('OC(=O)C(Br)(Cl)N')"
      ],
      "execution_count": 18,
      "outputs": [
        {
          "output_type": "execute_result",
          "data": {
            "image/png": "[encoded data removed]",
            "text/plain": [
              "<rdkit.Chem.rdchem.Mol at 0x7f220339c120>"
            ]
          },
          "metadata": {
            "tags": []
          },
          "execution_count": 18
        }
      ]
    },
    {
      "cell_type": "code",
      "metadata": {
        "id": "j-n3Xx7d15wm",
        "colab_type": "code",
        "colab": {
          "base_uri": "https://localhost:8080/",
          "height": 167
        },
        "outputId": "dd8437b7-611a-4cd2-e9df-27c1686055d6"
      },
      "source": [
        "Chem.MolFromSmiles('O=C(O)C(N)(Br)Cl')"
      ],
      "execution_count": 20,
      "outputs": [
        {
          "output_type": "execute_result",
          "data": {
            "image/png": "[encoded data removed]",
            "text/plain": [
              "<rdkit.Chem.rdchem.Mol at 0x7f220339c5d0>"
            ]
          },
          "metadata": {
            "tags": []
          },
          "execution_count": 20
        }
      ]
    },
    {
      "cell_type": "markdown",
      "metadata": {
        "id": "NUug9ZNY3ix-",
        "colab_type": "text"
      },
      "source": [
        "다른 SMILES를 입력하였으나 나타내는 분자구조는 같습니다."
      ]
    },
    {
      "cell_type": "markdown",
      "metadata": {
        "id": "B0MRZDFf3NJ6",
        "colab_type": "text"
      },
      "source": [
        "### Unique SMILES 확인하는 방법"
      ]
    },
    {
      "cell_type": "code",
      "metadata": {
        "id": "84FXd_VA2KQQ",
        "colab_type": "code",
        "colab": {
          "base_uri": "https://localhost:8080/",
          "height": 35
        },
        "outputId": "643046ae-2fe4-426c-a6a4-95e1f1dd96cb"
      },
      "source": [
        "Chem.MolToSmiles(Chem.MolFromSmiles('OCC'))"
      ],
      "execution_count": 21,
      "outputs": [
        {
          "output_type": "execute_result",
          "data": {
            "text/plain": [
              "'CCO'"
            ]
          },
          "metadata": {
            "tags": []
          },
          "execution_count": 21
        }
      ]
    },
    {
      "cell_type": "code",
      "metadata": {
        "id": "zRMwWXC-3Rfm",
        "colab_type": "code",
        "colab": {
          "base_uri": "https://localhost:8080/",
          "height": 35
        },
        "outputId": "4e846e6b-a5b5-420f-daef-6c1d099e4909"
      },
      "source": [
        "Chem.MolToSmiles(Chem.MolFromSmiles('[CH3][CH2][OH]'))"
      ],
      "execution_count": 22,
      "outputs": [
        {
          "output_type": "execute_result",
          "data": {
            "text/plain": [
              "'CCO'"
            ]
          },
          "metadata": {
            "tags": []
          },
          "execution_count": 22
        }
      ]
    },
    {
      "cell_type": "code",
      "metadata": {
        "id": "tSn2EtAT3YdE",
        "colab_type": "code",
        "colab": {
          "base_uri": "https://localhost:8080/",
          "height": 35
        },
        "outputId": "607a2af0-bb85-4164-ff91-5648caf3915c"
      },
      "source": [
        "Chem.MolToSmiles(Chem.MolFromSmiles('OC(=O)C(Br)(Cl)N'))"
      ],
      "execution_count": 24,
      "outputs": [
        {
          "output_type": "execute_result",
          "data": {
            "text/plain": [
              "'NC(Cl)(Br)C(=O)O'"
            ]
          },
          "metadata": {
            "tags": []
          },
          "execution_count": 24
        }
      ]
    },
    {
      "cell_type": "code",
      "metadata": {
        "id": "-C7NgD063VoI",
        "colab_type": "code",
        "colab": {
          "base_uri": "https://localhost:8080/",
          "height": 35
        },
        "outputId": "c3c0577a-e065-470f-c68f-276c003ed77a"
      },
      "source": [
        "Chem.MolToSmiles(Chem.MolFromSmiles('O=C(O)C(N)(Br)Cl'))"
      ],
      "execution_count": 23,
      "outputs": [
        {
          "output_type": "execute_result",
          "data": {
            "text/plain": [
              "'NC(Cl)(Br)C(=O)O'"
            ]
          },
          "metadata": {
            "tags": []
          },
          "execution_count": 23
        }
      ]
    },
    {
      "cell_type": "markdown",
      "metadata": {
        "id": "gsr3uhM-Y6bA",
        "colab_type": "text"
      },
      "source": [
        "##2 SMILES Specification Rules(SMILES 명시 규칙)\n",
        "\n",
        "SMILES 표기법은 공백이 없는 일련의 문자로 구성되고 수소 원자는 생략되거나 포함 될 수 있습니다. 방향족 구조는 직접  또는 Kekule 방식으로 나타낼 수 있다. SMILES 인코딩 규칙에는 일반적으로 원자, 결합, 가지, 고리 닫힘, 단절 다섯 가지가 있습니다.\n",
        "\n",
        "\n"
      ]
    },
    {
      "cell_type": "markdown",
      "metadata": {
        "id": "bfaRbQ_TbB9M",
        "colab_type": "text"
      },
      "source": [
        "###2.1 Atom(원자)\n",
        "\n",
        "원자는 원자 기호로 표시되어지고 SMILES에서 유일하게 필요한 문자 사용입니다. 수소가 아닌 원자는 []로 묶인 원자 기호로 독립적으로 나타낼 수 있습니다. organic subset인 B,C,N,O,P,S,F,Cl,Br,I 는 부착된 수소의 수가 최저 원자가를 따르는 경우 괄호 없이 나타낼 수 있습니다. 여기서 최저 원자가는 B(3),C(4),N(3,5),O(2),P(3,5),S(2,4,6),할로젠 원소(1)으로 나타내어 지는 것을 말합니다. 지방족 탄소는 대문자 C로 나타내어지고 방향족 탄소는 소문자 c로 나타냅니다.\n",
        "\n"
      ]
    },
    {
      "cell_type": "markdown",
      "metadata": {
        "id": "bidhhdr73zGU",
        "colab_type": "text"
      },
      "source": [
        "ex)괄호없이 쓸 수 있는 SMILES\n"
      ]
    },
    {
      "cell_type": "code",
      "metadata": {
        "id": "TAWuK5C230CG",
        "colab_type": "code",
        "colab": {
          "base_uri": "https://localhost:8080/",
          "height": 167
        },
        "outputId": "a168c165-ae92-464f-f51a-255dad6590ed"
      },
      "source": [
        "Chem.MolFromSmiles('C')#methane"
      ],
      "execution_count": 25,
      "outputs": [
        {
          "output_type": "execute_result",
          "data": {
            "image/png": "[encoded data removed]",
            "text/plain": [
              "<rdkit.Chem.rdchem.Mol at 0x7f220339cc60>"
            ]
          },
          "metadata": {
            "tags": []
          },
          "execution_count": 25
        }
      ]
    },
    {
      "cell_type": "code",
      "metadata": {
        "id": "gFEnKBQj48dm",
        "colab_type": "code",
        "colab": {
          "base_uri": "https://localhost:8080/",
          "height": 167
        },
        "outputId": "80767d97-d2e5-456a-a612-1e2cc1ceae59"
      },
      "source": [
        "Chem.MolFromSmiles('P')#phosphine"
      ],
      "execution_count": 26,
      "outputs": [
        {
          "output_type": "execute_result",
          "data": {
            "image/png": "[encoded data removed]",
            "text/plain": [
              "<rdkit.Chem.rdchem.Mol at 0x7f220339ce90>"
            ]
          },
          "metadata": {
            "tags": []
          },
          "execution_count": 26
        }
      ]
    },
    {
      "cell_type": "code",
      "metadata": {
        "id": "RM0SuAFb4_iU",
        "colab_type": "code",
        "colab": {
          "base_uri": "https://localhost:8080/",
          "height": 167
        },
        "outputId": "6546a61b-e75a-4abe-a644-a88bf97aaa59"
      },
      "source": [
        "Chem.MolFromSmiles('N')#ammonia"
      ],
      "execution_count": 27,
      "outputs": [
        {
          "output_type": "execute_result",
          "data": {
            "image/png": "[encoded data removed]",
            "text/plain": [
              "<rdkit.Chem.rdchem.Mol at 0x7f22033a2080>"
            ]
          },
          "metadata": {
            "tags": []
          },
          "execution_count": 27
        }
      ]
    },
    {
      "cell_type": "code",
      "metadata": {
        "id": "dT5dRdSb5CHY",
        "colab_type": "code",
        "colab": {
          "base_uri": "https://localhost:8080/",
          "height": 167
        },
        "outputId": "9e6f4546-3f0e-4ec8-9e75-b7ded752fd0c"
      },
      "source": [
        "Chem.MolFromSmiles('S')#hydrogen sulfide"
      ],
      "execution_count": 28,
      "outputs": [
        {
          "output_type": "execute_result",
          "data": {
            "image/png": "[encoded data removed]",
            "text/plain": [
              "<rdkit.Chem.rdchem.Mol at 0x7f22033a2210>"
            ]
          },
          "metadata": {
            "tags": []
          },
          "execution_count": 28
        }
      ]
    },
    {
      "cell_type": "code",
      "metadata": {
        "id": "DTmgB-jZ5Di1",
        "colab_type": "code",
        "colab": {
          "base_uri": "https://localhost:8080/",
          "height": 167
        },
        "outputId": "2036b4bf-5a13-44db-c079-fcce68f35be8"
      },
      "source": [
        "Chem.MolFromSmiles('O')#water"
      ],
      "execution_count": 29,
      "outputs": [
        {
          "output_type": "execute_result",
          "data": {
            "image/png": "[encoded data removed]",
            "text/plain": [
              "<rdkit.Chem.rdchem.Mol at 0x7f22033a2350>"
            ]
          },
          "metadata": {
            "tags": []
          },
          "execution_count": 29
        }
      ]
    },
    {
      "cell_type": "code",
      "metadata": {
        "id": "upcW98wZ5Fb0",
        "colab_type": "code",
        "colab": {
          "base_uri": "https://localhost:8080/",
          "height": 167
        },
        "outputId": "5f1e0be0-d4bb-46c7-ebb3-e5c1bda42c36"
      },
      "source": [
        "Chem.MolFromSmiles('Cl')#hydrochloric acid"
      ],
      "execution_count": 30,
      "outputs": [
        {
          "output_type": "execute_result",
          "data": {
            "image/png": "[encoded data removed]",
            "text/plain": [
              "<rdkit.Chem.rdchem.Mol at 0x7f22033a25d0>"
            ]
          },
          "metadata": {
            "tags": []
          },
          "execution_count": 30
        }
      ]
    },
    {
      "cell_type": "markdown",
      "metadata": {
        "id": "5tudJu_m30dB",
        "colab_type": "text"
      },
      "source": [
        "ex)괄호가 있어야 쓸 수 있는 SMILES"
      ]
    },
    {
      "cell_type": "code",
      "metadata": {
        "id": "ygxSHXXF35MO",
        "colab_type": "code",
        "colab": {
          "base_uri": "https://localhost:8080/",
          "height": 167
        },
        "outputId": "eccf021c-66e0-4bf2-a804-beff80f44d6d"
      },
      "source": [
        "Chem.MolFromSmiles('[S]')#elemental sulfur"
      ],
      "execution_count": 31,
      "outputs": [
        {
          "output_type": "execute_result",
          "data": {
            "image/png": "[encoded data removed]",
            "text/plain": [
              "<rdkit.Chem.rdchem.Mol at 0x7f22033a2580>"
            ]
          },
          "metadata": {
            "tags": []
          },
          "execution_count": 31
        }
      ]
    },
    {
      "cell_type": "code",
      "metadata": {
        "id": "AQ5lPDq85e8L",
        "colab_type": "code",
        "colab": {
          "base_uri": "https://localhost:8080/",
          "height": 167
        },
        "outputId": "16a2779e-7af1-4f5e-8827-02126dff8e3b"
      },
      "source": [
        "Chem.MolFromSmiles('[Au]')#elemental gold"
      ],
      "execution_count": 32,
      "outputs": [
        {
          "output_type": "execute_result",
          "data": {
            "image/png": "[encoded data removed]",
            "text/plain": [
              "<rdkit.Chem.rdchem.Mol at 0x7f22033a2850>"
            ]
          },
          "metadata": {
            "tags": []
          },
          "execution_count": 32
        }
      ]
    },
    {
      "cell_type": "code",
      "metadata": {
        "id": "IaxFSsDl5ktr",
        "colab_type": "code",
        "colab": {
          "base_uri": "https://localhost:8080/",
          "height": 35
        },
        "outputId": "c855de32-e764-4df6-e7cf-9f4dcb742ae8"
      },
      "source": [
        "Chem.MolFromSmiles('Au')"
      ],
      "execution_count": 33,
      "outputs": [
        {
          "output_type": "stream",
          "text": [
            "RDKit ERROR: [11:37:36] SMILES Parse Error: syntax error for input: 'Au'\n"
          ],
          "name": "stderr"
        }
      ]
    },
    {
      "cell_type": "markdown",
      "metadata": {
        "id": "QaKwhAoB5nA7",
        "colab_type": "text"
      },
      "source": [
        "이런식으로 []를 사용하지 않으면 오류가 나온다"
      ]
    },
    {
      "cell_type": "code",
      "metadata": {
        "id": "tG8KX1Zg5p-J",
        "colab_type": "code",
        "colab": {
          "base_uri": "https://localhost:8080/",
          "height": 167
        },
        "outputId": "ef10772c-6f44-4514-dbec-096f313d113b"
      },
      "source": [
        "Chem.MolFromSmiles('[H]')#Hydrogen Atom"
      ],
      "execution_count": 35,
      "outputs": [
        {
          "output_type": "execute_result",
          "data": {
            "image/png": "[encoded data removed]",
            "text/plain": [
              "<rdkit.Chem.rdchem.Mol at 0x7f22033a29e0>"
            ]
          },
          "metadata": {
            "tags": []
          },
          "execution_count": 35
        }
      ]
    },
    {
      "cell_type": "code",
      "metadata": {
        "id": "WV0a74gg5vhL",
        "colab_type": "code",
        "colab": {
          "base_uri": "https://localhost:8080/",
          "height": 167
        },
        "outputId": "d161953c-d831-4798-a2c0-8931bca7ce6a"
      },
      "source": [
        "Chem.MolFromSmiles('[C]')#elemental carbon(Graphite)"
      ],
      "execution_count": 36,
      "outputs": [
        {
          "output_type": "execute_result",
          "data": {
            "image/png": "[encoded data removed]",
            "text/plain": [
              "<rdkit.Chem.rdchem.Mol at 0x7f22033a2da0>"
            ]
          },
          "metadata": {
            "tags": []
          },
          "execution_count": 36
        }
      ]
    },
    {
      "cell_type": "markdown",
      "metadata": {
        "id": "q_ZLljog35mT",
        "colab_type": "text"
      },
      "source": [
        "괄호안에서 부착 된 수소와 전하는 항상 지정되어야합니다. 부착 된 수소의 수는 기호 H와 선택적 숫자로 표시가 되고 전하는 +또는 - 기호 중 한나와 숫자로 표시되어집니다. 지정되지 않은 경우 전하는 0으로 가정되어지고 숫자를 이용하지 않고 +나 -를 그 수만큼 사용하여 나타내어도 됩니다. ex) [Fe++]=[Fe+2]\n",
        "\n",
        "ex)SMILES로 나타낸 전하\n"
      ]
    },
    {
      "cell_type": "code",
      "metadata": {
        "id": "4x6twbLb520V",
        "colab_type": "code",
        "colab": {
          "base_uri": "https://localhost:8080/",
          "height": 167
        },
        "outputId": "403d79c1-ec4d-4677-beeb-f2adba6279e1"
      },
      "source": [
        "Chem.MolFromSmiles('[Fe++]')#iron(ll)cation"
      ],
      "execution_count": 37,
      "outputs": [
        {
          "output_type": "execute_result",
          "data": {
            "image/png": "[encoded data removed]",
            "text/plain": [
              "<rdkit.Chem.rdchem.Mol at 0x7f22033a2b20>"
            ]
          },
          "metadata": {
            "tags": []
          },
          "execution_count": 37
        }
      ]
    },
    {
      "cell_type": "code",
      "metadata": {
        "id": "bsTT3xNW6CnR",
        "colab_type": "code",
        "colab": {
          "base_uri": "https://localhost:8080/",
          "height": 167
        },
        "outputId": "2b02d240-ac3a-47a8-ee55-065aad6f0e09"
      },
      "source": [
        "Chem.MolFromSmiles('[Fe+2]')#iron(ll)cation"
      ],
      "execution_count": 38,
      "outputs": [
        {
          "output_type": "execute_result",
          "data": {
            "image/png": "[encoded data removed]",
            "text/plain": [
              "<rdkit.Chem.rdchem.Mol at 0x7f22033a2e90>"
            ]
          },
          "metadata": {
            "tags": []
          },
          "execution_count": 38
        }
      ]
    },
    {
      "cell_type": "code",
      "metadata": {
        "id": "TZuriyyI6EVr",
        "colab_type": "code",
        "colab": {
          "base_uri": "https://localhost:8080/",
          "height": 167
        },
        "outputId": "ea057a47-13f4-4d99-b665-27d8434ebac7"
      },
      "source": [
        "Chem.MolFromSmiles('[OH-]')#hydroxyl anion"
      ],
      "execution_count": 40,
      "outputs": [
        {
          "output_type": "execute_result",
          "data": {
            "image/png": "[encoded data removed]",
            "text/plain": [
              "<rdkit.Chem.rdchem.Mol at 0x7f22033a4260>"
            ]
          },
          "metadata": {
            "tags": []
          },
          "execution_count": 40
        }
      ]
    },
    {
      "cell_type": "code",
      "metadata": {
        "id": "efkaug8R6Yes",
        "colab_type": "code",
        "colab": {
          "base_uri": "https://localhost:8080/",
          "height": 167
        },
        "outputId": "54ce50c8-a5e9-42e1-e662-d8f0dd66eec6"
      },
      "source": [
        "Chem.MolFromSmiles('[H+]')#proton"
      ],
      "execution_count": 41,
      "outputs": [
        {
          "output_type": "execute_result",
          "data": {
            "image/png": "[encoded data removed]",
            "text/plain": [
              "<rdkit.Chem.rdchem.Mol at 0x7f22033a41c0>"
            ]
          },
          "metadata": {
            "tags": []
          },
          "execution_count": 41
        }
      ]
    },
    {
      "cell_type": "code",
      "metadata": {
        "id": "X-5McFHp6dMA",
        "colab_type": "code",
        "colab": {
          "base_uri": "https://localhost:8080/",
          "height": 167
        },
        "outputId": "4cc9d7d4-652e-4ca1-d3b7-29c8dc2d236a"
      },
      "source": [
        "Chem.MolFromSmiles('[OH3+]')#hydronium cation"
      ],
      "execution_count": 42,
      "outputs": [
        {
          "output_type": "execute_result",
          "data": {
            "image/png": "[encoded data removed]",
            "text/plain": [
              "<rdkit.Chem.rdchem.Mol at 0x7f22033a4490>"
            ]
          },
          "metadata": {
            "tags": []
          },
          "execution_count": 42
        }
      ]
    },
    {
      "cell_type": "code",
      "metadata": {
        "id": "TFiUK4sW6jkL",
        "colab_type": "code",
        "colab": {
          "base_uri": "https://localhost:8080/",
          "height": 167
        },
        "outputId": "11d7186f-7d79-4f48-83a7-2ddc74b91536"
      },
      "source": [
        "Chem.MolFromSmiles('[NH4+]')#\tammonium cation"
      ],
      "execution_count": 43,
      "outputs": [
        {
          "output_type": "execute_result",
          "data": {
            "image/png": "[encoded data removed]",
            "text/plain": [
              "<rdkit.Chem.rdchem.Mol at 0x7f22033a46c0>"
            ]
          },
          "metadata": {
            "tags": []
          },
          "execution_count": 43
        }
      ]
    },
    {
      "cell_type": "markdown",
      "metadata": {
        "id": "Jd8f2Q8DeY2N",
        "colab_type": "text"
      },
      "source": [
        "###2.2 Bonds(결합)\n",
        "단일, 이중, 삼중 및 방향족 결합은 각각 -,=,# 및 : 으로 표시됩니다. 인접 원자는 단일 또는 방향족 결합에 의해 서로 연결되어 있는 것으로 가정됩니다. 단일 및 방향족 결합은 항상 생략 될 수 있습니다.\n",
        "\n",
        "ex) 결합을 나타내는 SMILES\n"
      ]
    },
    {
      "cell_type": "code",
      "metadata": {
        "id": "GQxoCgKm39G0",
        "colab_type": "code",
        "colab": {
          "base_uri": "https://localhost:8080/",
          "height": 167
        },
        "outputId": "6fc0a6e0-3919-4242-8d9c-8c3e6d9c4773"
      },
      "source": [
        "Chem.MolFromSmiles('CC')#ethane"
      ],
      "execution_count": 44,
      "outputs": [
        {
          "output_type": "execute_result",
          "data": {
            "image/png": "[encoded data removed]",
            "text/plain": [
              "<rdkit.Chem.rdchem.Mol at 0x7f22033a4580>"
            ]
          },
          "metadata": {
            "tags": []
          },
          "execution_count": 44
        }
      ]
    },
    {
      "cell_type": "code",
      "metadata": {
        "id": "ermtM1247KFz",
        "colab_type": "code",
        "colab": {
          "base_uri": "https://localhost:8080/",
          "height": 167
        },
        "outputId": "5c2fb5f1-96d7-4aca-90b8-054afe8caaa8"
      },
      "source": [
        "Chem.MolFromSmiles('C-C')#ethane"
      ],
      "execution_count": 45,
      "outputs": [
        {
          "output_type": "execute_result",
          "data": {
            "image/png": "[encoded data removed]",
            "text/plain": [
              "<rdkit.Chem.rdchem.Mol at 0x7f22033a4760>"
            ]
          },
          "metadata": {
            "tags": []
          },
          "execution_count": 45
        }
      ]
    },
    {
      "cell_type": "code",
      "metadata": {
        "id": "VNBeUrqX7L7f",
        "colab_type": "code",
        "colab": {
          "base_uri": "https://localhost:8080/",
          "height": 167
        },
        "outputId": "815353d2-4648-4129-926e-1caf3cce61c5"
      },
      "source": [
        "Chem.MolFromSmiles('C=O')#formaldehyde"
      ],
      "execution_count": 46,
      "outputs": [
        {
          "output_type": "execute_result",
          "data": {
            "image/png": "[encoded data removed]",
            "text/plain": [
              "<rdkit.Chem.rdchem.Mol at 0x7f22033a4b20>"
            ]
          },
          "metadata": {
            "tags": []
          },
          "execution_count": 46
        }
      ]
    },
    {
      "cell_type": "code",
      "metadata": {
        "id": "69Gu07ew7Qta",
        "colab_type": "code",
        "colab": {
          "base_uri": "https://localhost:8080/",
          "height": 167
        },
        "outputId": "8e081570-e882-4de8-92d3-5842be92914a"
      },
      "source": [
        "Chem.MolFromSmiles('O=C=O')#carbon dioxide"
      ],
      "execution_count": 47,
      "outputs": [
        {
          "output_type": "execute_result",
          "data": {
            "image/png": "[encoded data removed]",
            "text/plain": [
              "<rdkit.Chem.rdchem.Mol at 0x7f22033a4710>"
            ]
          },
          "metadata": {
            "tags": []
          },
          "execution_count": 47
        }
      ]
    },
    {
      "cell_type": "code",
      "metadata": {
        "id": "Dyt8_iY27WrJ",
        "colab_type": "code",
        "colab": {
          "base_uri": "https://localhost:8080/",
          "height": 167
        },
        "outputId": "337c8639-4271-487a-d1cf-22b29454cddc"
      },
      "source": [
        "Chem.MolFromSmiles('COC')#\tdimethyl ether"
      ],
      "execution_count": 48,
      "outputs": [
        {
          "output_type": "execute_result",
          "data": {
            "image/png": "[encoded data removed]",
            "text/plain": [
              "<rdkit.Chem.rdchem.Mol at 0x7f22033a4990>"
            ]
          },
          "metadata": {
            "tags": []
          },
          "execution_count": 48
        }
      ]
    },
    {
      "cell_type": "code",
      "metadata": {
        "id": "Wioz6c5Q7b_6",
        "colab_type": "code",
        "colab": {
          "base_uri": "https://localhost:8080/",
          "height": 167
        },
        "outputId": "c1ee2ce6-9fd6-406f-9ad8-3bd6309941a0"
      },
      "source": [
        "Chem.MolFromSmiles('C#N')#hydrogen cyanide"
      ],
      "execution_count": 49,
      "outputs": [
        {
          "output_type": "execute_result",
          "data": {
            "image/png": "[encoded data removed]",
            "text/plain": [
              "<rdkit.Chem.rdchem.Mol at 0x7f22033a4d00>"
            ]
          },
          "metadata": {
            "tags": []
          },
          "execution_count": 49
        }
      ]
    },
    {
      "cell_type": "code",
      "metadata": {
        "id": "YU5__otq7hpS",
        "colab_type": "code",
        "colab": {
          "base_uri": "https://localhost:8080/",
          "height": 167
        },
        "outputId": "582b400e-5dfd-46c6-911f-2c726de35fa0"
      },
      "source": [
        "Chem.MolFromSmiles('[H][H]')#molecular hydrogen\n"
      ],
      "execution_count": 50,
      "outputs": [
        {
          "output_type": "execute_result",
          "data": {
            "image/png": "[encoded data removed]",
            "text/plain": [
              "<rdkit.Chem.rdchem.Mol at 0x7f22033a4f30>"
            ]
          },
          "metadata": {
            "tags": []
          },
          "execution_count": 50
        }
      ]
    },
    {
      "cell_type": "markdown",
      "metadata": {
        "id": "QR1jDFyXlWSk",
        "colab_type": "text"
      },
      "source": [
        "선형 구조의 경우, SMILES 표기법은 수소 및 단일 결합이 일반적으로 생략된다는 점을 제외하고는 일반적인 표기법에 해당됩니다. ex) 6-hydroxy-1,4-hexadiene은 여러가지의 SMILES로 나타낼 수 있습니다."
      ]
    },
    {
      "cell_type": "code",
      "metadata": {
        "id": "0CX1-EH08LqI",
        "colab_type": "code",
        "colab": {
          "base_uri": "https://localhost:8080/",
          "height": 167
        },
        "outputId": "77aff0d7-3111-4aaf-c1dc-b7b3a0d59818"
      },
      "source": [
        "Chem.MolFromSmiles('C=C-C-C=C-C-O')"
      ],
      "execution_count": 52,
      "outputs": [
        {
          "output_type": "execute_result",
          "data": {
            "image/png": "[encoded data removed]",
            "text/plain": [
              "<rdkit.Chem.rdchem.Mol at 0x7f22033a5170>"
            ]
          },
          "metadata": {
            "tags": []
          },
          "execution_count": 52
        }
      ]
    },
    {
      "cell_type": "code",
      "metadata": {
        "id": "K_4lCtke8S-E",
        "colab_type": "code",
        "colab": {
          "base_uri": "https://localhost:8080/",
          "height": 167
        },
        "outputId": "95eeda27-9b45-4fe8-d25a-df6eee43de70"
      },
      "source": [
        "Chem.MolFromSmiles('C=CCC=CCO')"
      ],
      "execution_count": 53,
      "outputs": [
        {
          "output_type": "execute_result",
          "data": {
            "image/png": "[encoded data removed]",
            "text/plain": [
              "<rdkit.Chem.rdchem.Mol at 0x7f22033a5300>"
            ]
          },
          "metadata": {
            "tags": []
          },
          "execution_count": 53
        }
      ]
    },
    {
      "cell_type": "code",
      "metadata": {
        "id": "2vQf2nOZ8XTB",
        "colab_type": "code",
        "colab": {
          "base_uri": "https://localhost:8080/",
          "height": 167
        },
        "outputId": "c0e4f9ee-2a65-4512-a4c7-2975d082fd6b"
      },
      "source": [
        "Chem.MolFromSmiles('OCC=CCC=C')"
      ],
      "execution_count": 55,
      "outputs": [
        {
          "output_type": "execute_result",
          "data": {
            "image/png": "[encoded data removed]",
            "text/plain": [
              "<rdkit.Chem.rdchem.Mol at 0x7f22033a5760>"
            ]
          },
          "metadata": {
            "tags": []
          },
          "execution_count": 55
        }
      ]
    },
    {
      "cell_type": "markdown",
      "metadata": {
        "id": "a69xYswunOEU",
        "colab_type": "text"
      },
      "source": [
        "###2.3 Branch(가지)\n",
        "\n",
        "가지는 소괄호로 묶어 지정되고 중첩되거나 쌓일 수 있습니다. 소괄호로 묶은 식에 대한 연결은 왼쪽에 있는 원자상에 있습니다.\n"
      ]
    },
    {
      "cell_type": "code",
      "metadata": {
        "id": "rhD7K43M8mbL",
        "colab_type": "code",
        "colab": {
          "base_uri": "https://localhost:8080/",
          "height": 167
        },
        "outputId": "87acc89e-7317-4f51-b1dc-6578c497c204"
      },
      "source": [
        "Chem.MolFromSmiles('CCN(CC)CC')#Triethylamine"
      ],
      "execution_count": 56,
      "outputs": [
        {
          "output_type": "execute_result",
          "data": {
            "image/png": "[encoded data removed]",
            "text/plain": [
              "<rdkit.Chem.rdchem.Mol at 0x7f22033a58f0>"
            ]
          },
          "metadata": {
            "tags": []
          },
          "execution_count": 56
        }
      ]
    },
    {
      "cell_type": "code",
      "metadata": {
        "id": "a5TOuovK8p_0",
        "colab_type": "code",
        "colab": {
          "base_uri": "https://localhost:8080/",
          "height": 167
        },
        "outputId": "2f603851-5ecf-4f89-f332-dec6d49100e1"
      },
      "source": [
        "Chem.MolFromSmiles('CC(C)C(=O)O')#Isobutyric acid"
      ],
      "execution_count": 57,
      "outputs": [
        {
          "output_type": "execute_result",
          "data": {
            "image/png": "[encoded data removed]",
            "text/plain": [
              "<rdkit.Chem.rdchem.Mol at 0x7f22033a53f0>"
            ]
          },
          "metadata": {
            "tags": []
          },
          "execution_count": 57
        }
      ]
    },
    {
      "cell_type": "code",
      "metadata": {
        "id": "qCnPlRNk8uV0",
        "colab_type": "code",
        "colab": {
          "base_uri": "https://localhost:8080/",
          "height": 167
        },
        "outputId": "9d210033-405f-4921-9469-4d38d08336e4"
      },
      "source": [
        "Chem.MolFromSmiles('C=CC(CCC)C(C(C)C)CCC')#3-propyl-4-isopropyl-1-heptene(가지속의 가지 표현가능)"
      ],
      "execution_count": 58,
      "outputs": [
        {
          "output_type": "execute_result",
          "data": {
            "image/png": "[encoded data removed]",
            "text/plain": [
              "<rdkit.Chem.rdchem.Mol at 0x7f22033a5b20>"
            ]
          },
          "metadata": {
            "tags": []
          },
          "execution_count": 58
        }
      ]
    },
    {
      "cell_type": "markdown",
      "metadata": {
        "id": "va7ybSeSo11K",
        "colab_type": "text"
      },
      "source": [
        "### 2.4 Cyclic Structures(순환 구조)\n",
        "고리 구조는 각 고리에서 하나의 결합을 끊는 것으로 표현되어집니다. 고리 폐쇄를 원자 기호 바로 다음에 숫자를 넣어주는것으로 고리 개방을 나타내어 줍니다. \n",
        "\n",
        "ex)Cyclohexane\n",
        "\n",
        "![Cyclohexane](http://www.daylight.com/dayhtml/doc/theory/theory4.gif)\n",
        "\n"
      ]
    },
    {
      "cell_type": "code",
      "metadata": {
        "id": "2QtXcw1D8-wr",
        "colab_type": "code",
        "colab": {
          "base_uri": "https://localhost:8080/",
          "height": 167
        },
        "outputId": "8ee0cc41-9666-4c4a-db8c-e48e890fbb71"
      },
      "source": [
        "Chem.MolFromSmiles('c1ccccc1')#Cyclohexane"
      ],
      "execution_count": 59,
      "outputs": [
        {
          "output_type": "execute_result",
          "data": {
            "image/png": "[encoded data removed]",
            "text/plain": [
              "<rdkit.Chem.rdchem.Mol at 0x7f22033a5d50>"
            ]
          },
          "metadata": {
            "tags": []
          },
          "execution_count": 59
        }
      ]
    },
    {
      "cell_type": "markdown",
      "metadata": {
        "id": "AZHCJ4pIq82c",
        "colab_type": "text"
      },
      "source": [
        "단일 원자는 둘 이상의 고리 폐쇄를 가질 수 있습니다.\n",
        "\n",
        "ex)cubane\n",
        "\n",
        "![Atom with 2ring](http://www.daylight.com/dayhtml/doc/theory/theory6.gif) <br><br>\n"
      ]
    },
    {
      "cell_type": "code",
      "metadata": {
        "id": "asCh-4aJ-RY5",
        "colab_type": "code",
        "colab": {
          "base_uri": "https://localhost:8080/",
          "height": 167
        },
        "outputId": "eaf94633-f023-41ce-c171-18217bf00092"
      },
      "source": [
        "Chem.MolFromSmiles('c12c3c4c1c5c4c3c25')#Cubane"
      ],
      "execution_count": 69,
      "outputs": [
        {
          "output_type": "execute_result",
          "data": {
            "image/png": "[encoded data removed]",
            "text/plain": [
              "<rdkit.Chem.rdchem.Mol at 0x7f22033ac210>"
            ]
          },
          "metadata": {
            "tags": []
          },
          "execution_count": 69
        }
      ]
    },
    {
      "cell_type": "markdown",
      "metadata": {
        "id": "KzDNoF3E-hWg",
        "colab_type": "text"
      },
      "source": [
        "필요한 경우, 고리 닫힘을 나타내는 숫자를 재사용 할 수 있습니다. \n",
        "\n",
        "![reuse#](http://www.daylight.com/dayhtml/doc/theory/theory7.gif)\n",
        "<br><br>\n",
        "O1CCCCC1N1CCCCC1"
      ]
    },
    {
      "cell_type": "code",
      "metadata": {
        "id": "XFYVa7zr-iI6",
        "colab_type": "code",
        "colab": {
          "base_uri": "https://localhost:8080/",
          "height": 167
        },
        "outputId": "9da56451-7c91-4c7b-a009-50f2008e5e80"
      },
      "source": [
        "Chem.MolFromSmiles('O1CCCCC1N1CCCCC1')"
      ],
      "execution_count": 70,
      "outputs": [
        {
          "output_type": "execute_result",
          "data": {
            "image/png": "[encoded data removed]",
            "text/plain": [
              "<rdkit.Chem.rdchem.Mol at 0x7f22033ac8f0>"
            ]
          },
          "metadata": {
            "tags": []
          },
          "execution_count": 70
        }
      ]
    },
    {
      "cell_type": "code",
      "metadata": {
        "id": "W2vPttUoA9Zv",
        "colab_type": "code",
        "colab": {
          "base_uri": "https://localhost:8080/",
          "height": 167
        },
        "outputId": "ba854908-273b-4446-e927-33a1684a2e10"
      },
      "source": [
        "Chem.MolFromSmiles('C12CCCCC1CCCC2')#Decalin"
      ],
      "execution_count": 73,
      "outputs": [
        {
          "output_type": "execute_result",
          "data": {
            "image/png": "[encoded data removed]",
            "text/plain": [
              "<rdkit.Chem.rdchem.Mol at 0x7f22033acad0>"
            ]
          },
          "metadata": {
            "tags": []
          },
          "execution_count": 73
        }
      ]
    },
    {
      "cell_type": "code",
      "metadata": {
        "id": "v7UZxcn8BFvk",
        "colab_type": "code",
        "colab": {
          "base_uri": "https://localhost:8080/",
          "height": 167
        },
        "outputId": "00938edf-8ace-4509-f4a5-be6e5cf1eefa"
      },
      "source": [
        "Chem.MolFromSmiles('C1CCCCC1C1CCCCC1')#Bicyclohexane"
      ],
      "execution_count": 74,
      "outputs": [
        {
          "output_type": "execute_result",
          "data": {
            "image/png": "[encoded data removed]",
            "text/plain": [
              "<rdkit.Chem.rdchem.Mol at 0x7f22033acb20>"
            ]
          },
          "metadata": {
            "tags": []
          },
          "execution_count": 74
        }
      ]
    },
    {
      "cell_type": "code",
      "metadata": {
        "id": "QZqS2RzGBK-q",
        "colab_type": "code",
        "colab": {
          "base_uri": "https://localhost:8080/",
          "height": 167
        },
        "outputId": "385a4497-11b0-4d83-85a8-5319a80fc232"
      },
      "source": [
        "Chem.MolFromSmiles('C1=CCCCC1')#Cyclohexene"
      ],
      "execution_count": 75,
      "outputs": [
        {
          "output_type": "execute_result",
          "data": {
            "image/png": "[encoded data removed]",
            "text/plain": [
              "<rdkit.Chem.rdchem.Mol at 0x7f22033ad030>"
            ]
          },
          "metadata": {
            "tags": []
          },
          "execution_count": 75
        }
      ]
    },
    {
      "cell_type": "markdown",
      "metadata": {
        "id": "F89tDbRVt1Nm",
        "colab_type": "text"
      },
      "source": [
        "###2.5 Disconnected Structures(분리된 구조)\n",
        "분리된 화합물은 \".\"을 이용하여 구분 된 개별 구조로 작성됩니다. 이온 또는 리간드(ligand)가 나열되는 순서는 임의적입니다. 한 전하와 다른 전하가 연결되어 있지 않으며 또한 전하를 가지고 있지 않아도 됩니다. 하나의 이온 SMILES는 다른 이온 내에 매립 될 수 있습니다. \n"
      ]
    },
    {
      "cell_type": "code",
      "metadata": {
        "id": "DynATFbABX2k",
        "colab_type": "code",
        "colab": {
          "base_uri": "https://localhost:8080/",
          "height": 167
        },
        "outputId": "bd6c5b9f-c4bc-454c-b829-d04b7affc01b"
      },
      "source": [
        "Chem.MolFromSmiles('c1cc([O-].[Na+])ccc1')#sodium phenoxide"
      ],
      "execution_count": 76,
      "outputs": [
        {
          "output_type": "execute_result",
          "data": {
            "image/png": "[encoded data removed]",
            "text/plain": [
              "<rdkit.Chem.rdchem.Mol at 0x7f22033ad0d0>"
            ]
          },
          "metadata": {
            "tags": []
          },
          "execution_count": 76
        }
      ]
    },
    {
      "cell_type": "code",
      "metadata": {
        "id": "YQeqZDfDB4GA",
        "colab_type": "code",
        "colab": {
          "base_uri": "https://localhost:8080/",
          "height": 167
        },
        "outputId": "0a6c11f2-c0ea-45a0-d313-1f18ebaffb04"
      },
      "source": [
        "Chem.MolFromSmiles('CCO.O')#Ethanol and Water"
      ],
      "execution_count": 77,
      "outputs": [
        {
          "output_type": "execute_result",
          "data": {
            "image/png": "[encoded data removed]",
            "text/plain": [
              "<rdkit.Chem.rdchem.Mol at 0x7f22033ad2b0>"
            ]
          },
          "metadata": {
            "tags": []
          },
          "execution_count": 77
        }
      ]
    },
    {
      "cell_type": "code",
      "metadata": {
        "id": "ddyzjjoRB9l8",
        "colab_type": "code",
        "colab": {
          "base_uri": "https://localhost:8080/",
          "height": 167
        },
        "outputId": "bbe2c561-5207-49d4-c4ad-998aedf7ed92"
      },
      "source": [
        "Chem.MolFromSmiles('[Na+].[Cl-]')#Sodium Chloride"
      ],
      "execution_count": 78,
      "outputs": [
        {
          "output_type": "execute_result",
          "data": {
            "image/png": "[encoded data removed]",
            "text/plain": [
              "<rdkit.Chem.rdchem.Mol at 0x7f22033ad3a0>"
            ]
          },
          "metadata": {
            "tags": []
          },
          "execution_count": 78
        }
      ]
    },
    {
      "cell_type": "markdown",
      "metadata": {
        "id": "klaIk8Xowe1k",
        "colab_type": "text"
      },
      "source": [
        "##3 Isomeric SMILES(이성질체 SMILES)\n",
        "\n",
        "SMILES의 이성질체 규칙을 사용하면 알려진 구조에 대해 카이랄성을 지정할 수 있습니다. CIP 및 IUPAC와 같은 대부분의 기존 화학 명명법과 달리 이 규칙은 엄격한 카이랄성 부분SMILES의 이성질체 규칙을 사용하면 알려진 구조에 대해 카이랄성을 지정할 수 있습니다. CIP 및 IUPAC와 같은 대부분의 기존 화학 명명법과 달리 이 규칙은 엄격한 카이랄성 부분적 명SMILES의 이성질체 규칙을 사용하면 알려진 구조에 대해 카이랄성을 지정할 수 있습니다. CIP 및 IUPAC와 같은 대부분의 기존 화학 명명법과 달리 이 규칙은 엄격한 카이랄성 부분SMILES의 이성질체 규칙을 사용하면 알려진 구조에 대해 카이랄성을 지정할 수 있습니다. CIP 및 IUPAC와 같은 대부분의 기존 화학 명명법과 달리 이 규칙은 엄격한 카이랄성 부분적 명시를 할 수 있습니다. SMILES의 모든 이성질체 규칙은 선택 사항이고 이러한 내용이 들어가 있지 않는다면 지정된 값이 없다는 것을 의미합니다.\n"
      ]
    },
    {
      "cell_type": "markdown",
      "metadata": {
        "id": "3iWbXhnAxpam",
        "colab_type": "text"
      },
      "source": [
        "###3.1 Isotopic Specification(동위원소)\n",
        "\n",
        "동위 원소는 동위원소의 질량을 숫자로 원자 기호 앞에 표시합니다.\n"
      ]
    },
    {
      "cell_type": "code",
      "metadata": {
        "id": "S4zbZv_0CPgt",
        "colab_type": "code",
        "colab": {
          "base_uri": "https://localhost:8080/",
          "height": 167
        },
        "outputId": "5a7da7d6-e924-4b23-fd17-64bd0ba0902d"
      },
      "source": [
        "Chem.MolFromSmiles('[12C]')#carbon-12"
      ],
      "execution_count": 79,
      "outputs": [
        {
          "output_type": "execute_result",
          "data": {
            "image/png": "[encoded data removed]",
            "text/plain": [
              "<rdkit.Chem.rdchem.Mol at 0x7f22033ad580>"
            ]
          },
          "metadata": {
            "tags": []
          },
          "execution_count": 79
        }
      ]
    },
    {
      "cell_type": "code",
      "metadata": {
        "id": "euQGwZkPCaYi",
        "colab_type": "code",
        "colab": {
          "base_uri": "https://localhost:8080/",
          "height": 167
        },
        "outputId": "a4926b1c-7fb2-4da4-df51-51535a6ea2be"
      },
      "source": [
        "Chem.MolFromSmiles('[13C]')#carbon-13"
      ],
      "execution_count": 80,
      "outputs": [
        {
          "output_type": "execute_result",
          "data": {
            "image/png": "[encoded data removed]",
            "text/plain": [
              "<rdkit.Chem.rdchem.Mol at 0x7f22033ad4e0>"
            ]
          },
          "metadata": {
            "tags": []
          },
          "execution_count": 80
        }
      ]
    },
    {
      "cell_type": "code",
      "metadata": {
        "id": "AUTVX72SCe4u",
        "colab_type": "code",
        "colab": {
          "base_uri": "https://localhost:8080/",
          "height": 167
        },
        "outputId": "cbe6f11e-5da9-4e46-b92b-fd864854af68"
      },
      "source": [
        "Chem.MolFromSmiles('[C]')#carbon"
      ],
      "execution_count": 81,
      "outputs": [
        {
          "output_type": "execute_result",
          "data": {
            "image/png": "[encoded data removed]",
            "text/plain": [
              "<rdkit.Chem.rdchem.Mol at 0x7f22033ad620>"
            ]
          },
          "metadata": {
            "tags": []
          },
          "execution_count": 81
        }
      ]
    },
    {
      "cell_type": "code",
      "metadata": {
        "id": "qaIoKLUdCh3h",
        "colab_type": "code",
        "colab": {
          "base_uri": "https://localhost:8080/",
          "height": 167
        },
        "outputId": "474a2448-924d-4654-d197-9fa15249c4d7"
      },
      "source": [
        "Chem.MolFromSmiles('[13CH4]')#C-13 methane"
      ],
      "execution_count": 82,
      "outputs": [
        {
          "output_type": "execute_result",
          "data": {
            "image/png": "[encoded data removed]",
            "text/plain": [
              "<rdkit.Chem.rdchem.Mol at 0x7f22033ad990>"
            ]
          },
          "metadata": {
            "tags": []
          },
          "execution_count": 82
        }
      ]
    },
    {
      "cell_type": "markdown",
      "metadata": {
        "id": "sOy3_biS4ifB",
        "colab_type": "text"
      },
      "source": [
        "###3.2 Configuration Around Double Bonds(이중결합을 둘러싼 배열)\n",
        "\n",
        "이중결합을 둘러싼 배열은 \"directional bonds(방향결합)\"을 나타내는 문자인 /와\\를 이용하여 나타낼 수 있고 단일 또는 방향족  결합의 종류로 생각할 수 있습니다. 기호는 연결된 원자 사이의 상대적인 방향성을 나타내며, 이중 결합 된 두 원자 모두에서 발생하는 경우에만 의미가 있습니다. \n",
        "\n",
        "\n"
      ]
    },
    {
      "cell_type": "code",
      "metadata": {
        "id": "5bw92VgSDMBt",
        "colab_type": "code",
        "colab": {
          "base_uri": "https://localhost:8080/",
          "height": 167
        },
        "outputId": "44b6c115-95c7-44ea-925c-c5deffc08389"
      },
      "source": [
        "Chem.MolFromSmiles('F/C=C/F')#E-1,2-difluoroethene\n"
      ],
      "execution_count": 83,
      "outputs": [
        {
          "output_type": "execute_result",
          "data": {
            "image/png": "[encoded data removed]",
            "text/plain": [
              "<rdkit.Chem.rdchem.Mol at 0x7f22033ad9e0>"
            ]
          },
          "metadata": {
            "tags": []
          },
          "execution_count": 83
        }
      ]
    },
    {
      "cell_type": "code",
      "metadata": {
        "id": "SQgSE3T_DRNf",
        "colab_type": "code",
        "colab": {
          "base_uri": "https://localhost:8080/",
          "height": 167
        },
        "outputId": "34cad4f9-032f-4e61-c516-c3cf1b85d500"
      },
      "source": [
        "Chem.MolFromSmiles('F/C=C\\F')#Z-1,2-difluoroethene"
      ],
      "execution_count": 84,
      "outputs": [
        {
          "output_type": "execute_result",
          "data": {
            "image/png": "[encoded data removed]",
            "text/plain": [
              "<rdkit.Chem.rdchem.Mol at 0x7f22033ad760>"
            ]
          },
          "metadata": {
            "tags": []
          },
          "execution_count": 84
        }
      ]
    },
    {
      "cell_type": "markdown",
      "metadata": {
        "id": "Lba13nszCuiT",
        "colab_type": "text"
      },
      "source": [
        "SMILES의 카이랄성 규약과 CIP같은 규약의 차이점은 SMILES는 부분적인 명시를 통하여 국부적으로 카이랄성을 나타낼 수 있다는 것입니다.\n"
      ]
    },
    {
      "cell_type": "code",
      "metadata": {
        "id": "qlPU2J4XDb8C",
        "colab_type": "code",
        "colab": {
          "base_uri": "https://localhost:8080/",
          "height": 167
        },
        "outputId": "5e9653a6-1ef9-4b43-8b40-81b3ea705921"
      },
      "source": [
        "Chem.MolFromSmiles('F/C=C/C=C/CF')#completely specified"
      ],
      "execution_count": 86,
      "outputs": [
        {
          "output_type": "execute_result",
          "data": {
            "image/png": "[encoded data removed]",
            "text/plain": [
              "<rdkit.Chem.rdchem.Mol at 0x7f22033ade40>"
            ]
          },
          "metadata": {
            "tags": []
          },
          "execution_count": 86
        }
      ]
    },
    {
      "cell_type": "code",
      "metadata": {
        "id": "0vlgFDmLDgSX",
        "colab_type": "code",
        "colab": {
          "base_uri": "https://localhost:8080/",
          "height": 167
        },
        "outputId": "d7c16506-4504-4637-c2f2-ba5b65bc9e6c"
      },
      "source": [
        "Chem.MolFromSmiles('F/C=C/C=CC')#partially specified"
      ],
      "execution_count": 87,
      "outputs": [
        {
          "output_type": "execute_result",
          "data": {
            "image/png": "[encoded data removed]",
            "text/plain": [
              "<rdkit.Chem.rdchem.Mol at 0x7f22033adcb0>"
            ]
          },
          "metadata": {
            "tags": []
          },
          "execution_count": 87
        }
      ]
    },
    {
      "cell_type": "markdown",
      "metadata": {
        "id": "I235ZJSo8Jdj",
        "colab_type": "text"
      },
      "source": [
        "###3.3. Configuration Around Tetrahedral Centers(사면체의 중심을 포함하는 구조)\n",
        "\n",
        "SMILES는 국부적 카이랄성에 기반한 매우 일반적인 카이랄성 명시법을 사용합니다. 방향은 SMILES 문자열에서 인접 항목 순으로 나타냅니다. SMILES에서 사면체의 중심은 카이랄 원자의 원자 기호 다음에 @ 또는 @@ 두개를 사용하여 표시합니다. 카이랄 원자에 대해 명시가 되지 않을 경우 카이랄성은 지정되지 않습니다. \n",
        " \" @ \"는 이웃하는 원자들이 시계 반대 방향으로 나열됨을 나타내고 \" @@ \"는 이웃하는 원자들이 시계 방향으로 나열되어 있음을 나타냅니다.\n",
        "\n",
        " 중심 탄소가 SMILES에 첫 번째 원자가 아니고 수소가 부착되어 있으면 수소는 다음에 나오는 세 이웃 원자들 중 첫 번째 원자로 간주되어집니다. 중심 탄소가 SMILES에서 첫 번째 원자라면 내제 된 수소는 원자로 간주되어집니다. 수소가 명시적으로 나타내어 질 경우 다른 원자와 같이 취급됩니다.\n",
        "\n",
        "\n"
      ]
    },
    {
      "cell_type": "code",
      "metadata": {
        "id": "eHNCIAhLDxhV",
        "colab_type": "code",
        "colab": {
          "base_uri": "https://localhost:8080/",
          "height": 167
        },
        "outputId": "7707b597-4efd-4c66-b455-5b25f28cf280"
      },
      "source": [
        "Chem.MolFromSmiles('NC(C)(F)C(=O)O')#unspecified chirality"
      ],
      "execution_count": 88,
      "outputs": [
        {
          "output_type": "execute_result",
          "data": {
            "image/png": "[encoded data removed]",
            "text/plain": [
              "<rdkit.Chem.rdchem.Mol at 0x7f22033addf0>"
            ]
          },
          "metadata": {
            "tags": []
          },
          "execution_count": 88
        }
      ]
    },
    {
      "cell_type": "code",
      "metadata": {
        "id": "VB1U7pUxD1bd",
        "colab_type": "code",
        "colab": {
          "base_uri": "https://localhost:8080/",
          "height": 167
        },
        "outputId": "b0f215da-3f57-47a6-ba40-28199784449d"
      },
      "source": [
        "Chem.MolFromSmiles('N[C@](C)(F)C(=O)O')#specified chirality"
      ],
      "execution_count": 89,
      "outputs": [
        {
          "output_type": "execute_result",
          "data": {
            "image/png": "[encoded data removed]",
            "text/plain": [
              "<rdkit.Chem.rdchem.Mol at 0x7f22033b11c0>"
            ]
          },
          "metadata": {
            "tags": []
          },
          "execution_count": 89
        }
      ]
    },
    {
      "cell_type": "code",
      "metadata": {
        "id": "3qs3bVrFD-D4",
        "colab_type": "code",
        "colab": {
          "base_uri": "https://localhost:8080/",
          "height": 167
        },
        "outputId": "d65a2eff-9a40-4ad6-c6dc-85c5d4c5c7b4"
      },
      "source": [
        "Chem.MolFromSmiles('N[C@@](C)(F)C(=O)O')#specified chirality"
      ],
      "execution_count": 90,
      "outputs": [
        {
          "output_type": "execute_result",
          "data": {
            "image/png": "[encoded data removed]",
            "text/plain": [
              "<rdkit.Chem.rdchem.Mol at 0x7f22033b12b0>"
            ]
          },
          "metadata": {
            "tags": []
          },
          "execution_count": 90
        }
      ]
    },
    {
      "cell_type": "markdown",
      "metadata": {
        "id": "T1M0lwufDwSh",
        "colab_type": "text"
      },
      "source": [
        "고리 닫힘 결합의 카이랄 순서는 고리 닫힘 숫자가 카이랄 원자 상에 나타나는 순서에 의해 나타내어 집니다."
      ]
    },
    {
      "cell_type": "code",
      "metadata": {
        "id": "q5E5U9DbEN-F",
        "colab_type": "code",
        "colab": {
          "base_uri": "https://localhost:8080/",
          "height": 167
        },
        "outputId": "4527abc7-9ad6-444a-f24f-e6936a87b5e5"
      },
      "source": [
        "Chem.MolFromSmiles('C[C@H]1CCCCO1')"
      ],
      "execution_count": 91,
      "outputs": [
        {
          "output_type": "execute_result",
          "data": {
            "image/png": "[encoded data removed]",
            "text/plain": [
              "<rdkit.Chem.rdchem.Mol at 0x7f22033b13f0>"
            ]
          },
          "metadata": {
            "tags": []
          },
          "execution_count": 91
        }
      ]
    },
    {
      "cell_type": "code",
      "metadata": {
        "id": "o9OMn2hAESYq",
        "colab_type": "code",
        "colab": {
          "base_uri": "https://localhost:8080/",
          "height": 167
        },
        "outputId": "2c202673-376c-4aee-de47-0253cf2ad492"
      },
      "source": [
        "Chem.MolFromSmiles('O1CCCC[C@@H]1C')"
      ],
      "execution_count": 92,
      "outputs": [
        {
          "output_type": "execute_result",
          "data": {
            "image/png": "[encoded data removed]",
            "text/plain": [
              "<rdkit.Chem.rdchem.Mol at 0x7f22033b1580>"
            ]
          },
          "metadata": {
            "tags": []
          },
          "execution_count": 92
        }
      ]
    },
    {
      "cell_type": "markdown",
      "metadata": {
        "id": "W93oduLHDGic",
        "colab_type": "text"
      },
      "source": [
        "###3.4 General Chiral Specification(일반적 카이랄 사양)\n",
        "\n",
        "사면체 구조 외에 많은 종류의 카이랄성이 존재합니다. 위에서 사용하였던 \"@\"기호는 일반적인 카이랄 사양 중 특별한 경우에 사용합니다.\n",
        "\n",
        "일반적 카이랄 사양에는 \"@\"기호, 2문자 카이랄 클래스 표시  지표, 수적 순열 지정이 있습니다. 기본적인 카이랄 클래스는 각각의 차수 즉 연결 수에 따라 할당 됩니다. 4개의 연결에 대한 기본 클래스는 위에서 보았던 4면체(TH)이다.\n",
        "대부분의 경우 @1표시는 SMILE의 순서를 기준으로한 축에 반시계 방향으로 @2표시는 시계방향을 의미합니다.\n",
        "'@@'와 '@@@'는 '@2'와'@3'으로 해석됩니다.\n",
        "\"@@\"및 \"@@@\" 형식의 표기법은 앞에서 전하를 나타낸 것과 같이 \"@2\"및 \"@3\"을 나타냅니다.위에서 사용된 '@'와 '@@'는 '@TH1'과 '@TH2'를 간략하게 표현한 것입니다. SMILES는 대칭으로 인하여 감소된 거울상 이성질체를 뜻하는 \"감소된 카이랄성\"과 중심치환으로 인해 중심이 비카이랄성이 되는 \"퇴화한 카이랄성\"을 포함하여 넓은 범위를 다룰 수 있습니다. SMILES 시스템은 특정 사양에 대해 고유 한 이성질체 SMILES를 생성하며 모든 유형의 키랄성에서 인식이 올바르게 작동하도록 합니다.\n",
        "\n",
        " 사면체, 유사 알렌(allen-like), 정사각형, 삼각뿔, 팔면체 등의 카이랄이 있고 이 5가지는 매우 흔하고 자주 다루어 집니다.\n",
        "\n",
        "\n"
      ]
    },
    {
      "cell_type": "markdown",
      "metadata": {
        "id": "jf1_9LkYZj9W",
        "colab_type": "text"
      },
      "source": [
        "####유사 알렌(allen-like) \n",
        "\n",
        "유사 엘렌 클래스의 기호는 AL로 나타낸다. 2차수의 카이랄 클래스 default이고 중심원자는 이중 결합을 가집니다. 치환 된 C = C = C 구조가 가장 흔하지 만, C = C = C = C = C 구조와 같이 홀수 개의 일련의 이중 결합 원자원자도  유사 알렌에 포함됩니다. @ AL1 (@)과 @ AL2 (@@)을 사용하여 나타내고 치환된 원자의 중첩과 각각의 사면체의 평가에 의해 해석됩니다. 치환된 유사알렌 원자에 부착 된 수소는 그 원자 바로 뒤에 있는 것으로 간주되어 집니다.\n"
      ]
    },
    {
      "cell_type": "code",
      "metadata": {
        "id": "vX_u7eNGEofw",
        "colab_type": "code",
        "colab": {
          "base_uri": "https://localhost:8080/",
          "height": 167
        },
        "outputId": "acb65a05-3bab-4034-d5b5-044de3392542"
      },
      "source": [
        "Chem.MolFromSmiles('OC(Cl)=[C@]=C(C)F')"
      ],
      "execution_count": 94,
      "outputs": [
        {
          "output_type": "execute_result",
          "data": {
            "image/png": "[encoded data removed]",
            "text/plain": [
              "<rdkit.Chem.rdchem.Mol at 0x7f22033b17b0>"
            ]
          },
          "metadata": {
            "tags": []
          },
          "execution_count": 94
        }
      ]
    },
    {
      "cell_type": "code",
      "metadata": {
        "id": "eB4-TAj1Esiw",
        "colab_type": "code",
        "colab": {
          "base_uri": "https://localhost:8080/",
          "height": 167
        },
        "outputId": "ca36fd02-77a3-4589-c8c5-7927110ee46f"
      },
      "source": [
        "Chem.MolFromSmiles('OC=[C@]=CF')"
      ],
      "execution_count": 95,
      "outputs": [
        {
          "output_type": "execute_result",
          "data": {
            "image/png": "[encoded data removed]",
            "text/plain": [
              "<rdkit.Chem.rdchem.Mol at 0x7f22033b1030>"
            ]
          },
          "metadata": {
            "tags": []
          },
          "execution_count": 95
        }
      ]
    },
    {
      "cell_type": "markdown",
      "metadata": {
        "id": "fFwCsc14ZUAt",
        "colab_type": "text"
      },
      "source": [
        "####정사각형\n",
        "\n",
        "정사각형 클래스의 기호는 SP로 나타냅니다. "
      ]
    },
    {
      "cell_type": "code",
      "metadata": {
        "id": "HfPb_B5qFJjF",
        "colab_type": "code",
        "colab": {
          "base_uri": "https://localhost:8080/",
          "height": 167
        },
        "outputId": "ac15f0e1-c67e-422a-bb30-5a91244a83ff"
      },
      "source": [
        "Chem.MolFromSmiles('F[P@](Cl)(Br)I')"
      ],
      "execution_count": 113,
      "outputs": [
        {
          "output_type": "execute_result",
          "data": {
            "image/png": "[encoded data removed]",
            "text/plain": [
              "<rdkit.Chem.rdchem.Mol at 0x7f22033b1710>"
            ]
          },
          "metadata": {
            "tags": []
          },
          "execution_count": 113
        }
      ]
    },
    {
      "cell_type": "code",
      "metadata": {
        "id": "qUKLDlt8GKp0",
        "colab_type": "code",
        "colab": {
          "base_uri": "https://localhost:8080/",
          "height": 167
        },
        "outputId": "d1c712d7-2ee4-4355-e915-c269fdbbccbd"
      },
      "source": [
        "Chem.MolFromSmiles('F[P@@](Cl)(Br)I')"
      ],
      "execution_count": 114,
      "outputs": [
        {
          "output_type": "execute_result",
          "data": {
            "image/png": "[encoded data removed]",
            "text/plain": [
              "<rdkit.Chem.rdchem.Mol at 0x7f22033b0710>"
            ]
          },
          "metadata": {
            "tags": []
          },
          "execution_count": 114
        }
      ]
    },
    {
      "cell_type": "markdown",
      "metadata": {
        "id": "TKSBl8cldLVX",
        "colab_type": "text"
      },
      "source": [
        "####삼각뿔형\n",
        "\n",
        "삼격뿔 형의 클래스 기호는 TB입니다. 이것은 차수가 5인 기본 카이랄 클래스입니다. 가능한 값은 @TB1 ~ @TB20까지 있습니다. @TB1(@)은 한 축 연결에서 다른 축 연결로 나열 될 때 3개의 수평적으로 연결된 중간원자가 시계 반대 방향으로 나열됨을 나타내고 @TB2(@@)는 시계 방향으로 나열됨을 나타냅니다."
      ]
    },
    {
      "cell_type": "code",
      "metadata": {
        "id": "1mmLu2ryGUEg",
        "colab_type": "code",
        "colab": {
          "base_uri": "https://localhost:8080/",
          "height": 167
        },
        "outputId": "9f892573-96d9-481d-d028-22bcb5170109"
      },
      "source": [
        "Chem.MolFromSmiles('S[As@@](F)(Cl)(Br)C=O')"
      ],
      "execution_count": 119,
      "outputs": [
        {
          "output_type": "execute_result",
          "data": {
            "image/png": "[encoded data removed]",
            "text/plain": [
              "<rdkit.Chem.rdchem.Mol at 0x7f22033b0760>"
            ]
          },
          "metadata": {
            "tags": []
          },
          "execution_count": 119
        }
      ]
    },
    {
      "cell_type": "code",
      "metadata": {
        "id": "NH9lNb6GGY0v",
        "colab_type": "code",
        "colab": {
          "base_uri": "https://localhost:8080/",
          "height": 167
        },
        "outputId": "36618371-8aa7-44bf-8ec4-626b0dc58227"
      },
      "source": [
        "Chem.MolFromSmiles('O=C[As@](F)(Cl)(Br)S')"
      ],
      "execution_count": 120,
      "outputs": [
        {
          "output_type": "execute_result",
          "data": {
            "image/png": "[encoded data removed]",
            "text/plain": [
              "<rdkit.Chem.rdchem.Mol at 0x7f22033b0d50>"
            ]
          },
          "metadata": {
            "tags": []
          },
          "execution_count": 120
        }
      ]
    },
    {
      "cell_type": "markdown",
      "metadata": {
        "id": "YGRf1SC3eNp1",
        "colab_type": "text"
      },
      "source": [
        "####8면체\n",
        "\n",
        "8면체 클래스의 기호는 OH입니다. 차수 6을 가지는 기본 카이랄 클래스이고 사용하는 값은 @OH1 ~ @OH30을 사용합니다. @OH1(@)는 한 축연결에서 다른 축 연결로 나열될때 수평적으로 연결된 4개의 중간 원자가 반 시계 방향으로 나열됨을 나타냅니다. @OH2(@@)는 시계 방향을 나타냅니다."
      ]
    },
    {
      "cell_type": "code",
      "metadata": {
        "id": "9olLe9f3Gh10",
        "colab_type": "code",
        "colab": {
          "base_uri": "https://localhost:8080/",
          "height": 167
        },
        "outputId": "47a42d13-8d7a-44db-d18f-5fad1c8bbc1a"
      },
      "source": [
        "Chem.MolFromSmiles('S[Co@@](F)(Cl)(Br)(I)C=O')"
      ],
      "execution_count": 121,
      "outputs": [
        {
          "output_type": "execute_result",
          "data": {
            "image/png": "[encoded data removed]",
            "text/plain": [
              "<rdkit.Chem.rdchem.Mol at 0x7f22033b0f80>"
            ]
          },
          "metadata": {
            "tags": []
          },
          "execution_count": 121
        }
      ]
    },
    {
      "cell_type": "code",
      "metadata": {
        "id": "tYMi_M4vGk2v",
        "colab_type": "code",
        "colab": {
          "base_uri": "https://localhost:8080/",
          "height": 167
        },
        "outputId": "58226b1a-d71e-4e54-b12a-0dc0d0003150"
      },
      "source": [
        "Chem.MolFromSmiles('O=C[Co@](F)(Cl)(Br)(I)S')"
      ],
      "execution_count": 122,
      "outputs": [
        {
          "output_type": "execute_result",
          "data": {
            "image/png": "[encoded data removed]",
            "text/plain": [
              "<rdkit.Chem.rdchem.Mol at 0x7f22033b0f30>"
            ]
          },
          "metadata": {
            "tags": []
          },
          "execution_count": 122
        }
      ]
    },
    {
      "cell_type": "markdown",
      "metadata": {
        "id": "dbFvpa45NpFl",
        "colab_type": "text"
      },
      "source": [
        "## 4. SMILES Conventions(관례)\n",
        "앞의 규칙 외에도 SMILES에서 사용되는 몇가지 관례들이 있습니다."
      ]
    },
    {
      "cell_type": "markdown",
      "metadata": {
        "id": "W9w4_GzrOzU5",
        "colab_type": "text"
      },
      "source": [
        "###4.1 Hydrogens(수소)\n",
        "SMILES로 작성할 때 대부분의 유기 구조에서 수소 원자는 일반적으로 생략됩니다. 수소의 존재는 세가지 방식으로 표시될 수 있습니다.\n",
        " * 암시적인 방식 : 일반적인 원자가 가정으로부터 대괄호([ ])로 표시되지 않은 원자\n",
        " * 명시적인 방식 : 대괄호([ ])안에 수소의 수를 표시\n",
        " * 수소 원자 : **[H]**원자\n",
        "\n",
        "또한 유기 및 무기 명명법에는 차이가 없습니다."
      ]
    },
    {
      "cell_type": "markdown",
      "metadata": {
        "id": "dVUt27hWTisw",
        "colab_type": "text"
      },
      "source": [
        "수소를 명확하게 표시해줘야 하는 4가지 경우가 있습니다.\n",
        " * 전하를 가지는 수소 : **[H+]**\n",
        " * 다른 수소와 연결된 수소 : 분자수소(**[H][H]**)\n",
        " * 두개 이상의 다른 원자와 연결된 수소 : bridging hydrogens\n",
        " * 동위원소 수소 : 중수(**[2H]O[2H]**)"
      ]
    },
    {
      "cell_type": "code",
      "metadata": {
        "id": "oHmSB0PRWERQ",
        "colab_type": "code",
        "outputId": "6364e050-bec1-4a06-ba9a-cec6ba622bc2",
        "colab": {
          "base_uri": "https://localhost:8080/",
          "height": 185
        }
      },
      "source": [
        "Chem.MolFromSmiles('[H+]')"
      ],
      "execution_count": 0,
      "outputs": [
        {
          "output_type": "stream",
          "text": [
            "RDKit WARNING: [16:08:38] WARNING: not removing hydrogen atom without neighbors\n"
          ],
          "name": "stderr"
        },
        {
          "output_type": "execute_result",
          "data": {
            "image/png": "[encoded data removed]",
            "text/plain": [
              "<rdkit.Chem.rdchem.Mol at 0x7fe61e579a80>"
            ]
          },
          "metadata": {
            "tags": []
          },
          "execution_count": 56
        }
      ]
    },
    {
      "cell_type": "code",
      "metadata": {
        "id": "CFGdqvUHM4lu",
        "colab_type": "code",
        "outputId": "a7520428-381b-4a90-bac4-40e03749224d",
        "colab": {
          "base_uri": "https://localhost:8080/",
          "height": 167
        }
      },
      "source": [
        "Chem.MolFromSmiles('[H][H]')\n"
      ],
      "execution_count": 0,
      "outputs": [
        {
          "output_type": "execute_result",
          "data": {
            "image/png": "[encoded data removed]",
            "text/plain": [
              "<rdkit.Chem.rdchem.Mol at 0x7fe61e5791c0>"
            ]
          },
          "metadata": {
            "tags": []
          },
          "execution_count": 57
        }
      ]
    },
    {
      "cell_type": "code",
      "metadata": {
        "id": "8UvLUOdyVvZa",
        "colab_type": "code",
        "outputId": "450abab0-9d34-465f-ceed-9a98d80afa14",
        "colab": {
          "base_uri": "https://localhost:8080/",
          "height": 167
        }
      },
      "source": [
        "Chem.MolFromSmiles('[2H]O[2H]')"
      ],
      "execution_count": 0,
      "outputs": [
        {
          "output_type": "execute_result",
          "data": {
            "image/png": "[encoded data removed]",
            "text/plain": [
              "<rdkit.Chem.rdchem.Mol at 0x7fe61e579b70>"
            ]
          },
          "metadata": {
            "tags": []
          },
          "execution_count": 58
        }
      ]
    },
    {
      "cell_type": "markdown",
      "metadata": {
        "id": "egBHaLraXC6s",
        "colab_type": "text"
      },
      "source": [
        "### 4.2 Aromaticity(방향성)\n",
        "분자의 대칭성을 특징짓기 위해 SMILES와 같은 시스템에서 방향성에 대한 명확한 화학 명명법이 추론되어야 한다. 효과적인 방향족 검출 알고리즘이 주어지면, 사용자가 지방족(Kekulé-like) 구조입력을 선호하는 경우 방향성으로 입력할 필요가 없다. 방향성으로 구조물을 입력하면 짧게 입력해서 정확한 화학구조를 얻을 수 있다."
      ]
    },
    {
      "cell_type": "markdown",
      "metadata": {
        "id": "WK0ym3U0ctxo",
        "colab_type": "text"
      },
      "source": [
        "SMILES 알고리즘은 확장된 버전의 Hueckel 규칙을 사용하여 방향족 분자 및 이온을 식별합니다.\n",
        "> 방향족으로서 자격을 갖기 위해서는\n",
        "> 1. 고리의 모든 원자가 $sp^{2}$ 혼성화 되어있어야 한다.\n",
        "> 2. 고리에 (4N+2)개의 $\\pi$전자를 가져야한다."
      ]
    },
    {
      "cell_type": "code",
      "metadata": {
        "id": "Yu-RYqUJlGRT",
        "colab_type": "code",
        "outputId": "bc624a29-229d-46a4-c65f-3fb26e78f194",
        "colab": {
          "base_uri": "https://localhost:8080/",
          "height": 167
        }
      },
      "source": [
        "Chem.MolFromSmiles('c1ccccc1') #aromatic"
      ],
      "execution_count": 0,
      "outputs": [
        {
          "output_type": "execute_result",
          "data": {
            "image/png": "[encoded data removed]",
            "text/plain": [
              "<rdkit.Chem.rdchem.Mol at 0x7fe62454cdf0>"
            ]
          },
          "metadata": {
            "tags": []
          },
          "execution_count": 59
        }
      ]
    },
    {
      "cell_type": "code",
      "metadata": {
        "id": "5JhVGiqRdMAJ",
        "colab_type": "code",
        "outputId": "c1572d93-b7c3-4621-f032-e8d050eb1556",
        "colab": {
          "base_uri": "https://localhost:8080/",
          "height": 167
        }
      },
      "source": [
        "Chem.MolFromSmiles('C1=CC=CC=C1') #aliphatic"
      ],
      "execution_count": 0,
      "outputs": [
        {
          "output_type": "execute_result",
          "data": {
            "image/png": "[encoded data removed]",
            "text/plain": [
              "<rdkit.Chem.rdchem.Mol at 0x7fe61e572710>"
            ]
          },
          "metadata": {
            "tags": []
          },
          "execution_count": 60
        }
      ]
    },
    {
      "cell_type": "markdown",
      "metadata": {
        "id": "4AaU1s_2lcNp",
        "colab_type": "text"
      },
      "source": [
        "조건에서 2번을 만족하지 않는것을 anti-aromatic이라고 한다 c1ccc1, c1ccccccc1 같은 경우가 있는데 SMILES 시스템에서 내재된 $sp^{2}$혼성화, 수소 수 및 지정된 공식전하(있는 경우)를 보존하는 구조를 찾습니다. 따라서 C1=CC=C1와 C1=CC=CC=CC=C1에 대한 정확한 anti-aromatic 구조를 생성합니다."
      ]
    },
    {
      "cell_type": "code",
      "metadata": {
        "id": "KZwoV8AafDkS",
        "colab_type": "code",
        "outputId": "7eb84929-c1b8-496c-86a2-e16ee5b13e16",
        "colab": {
          "base_uri": "https://localhost:8080/",
          "height": 167
        }
      },
      "source": [
        "Chem.MolFromSmiles('c1ccc1') #anti-aromatic"
      ],
      "execution_count": 0,
      "outputs": [
        {
          "output_type": "execute_result",
          "data": {
            "image/png": "[encoded data removed]",
            "text/plain": [
              "<rdkit.Chem.rdchem.Mol at 0x7fe61e572940>"
            ]
          },
          "metadata": {
            "tags": []
          },
          "execution_count": 61
        }
      ]
    },
    {
      "cell_type": "code",
      "metadata": {
        "id": "9P_qqs1hmyES",
        "colab_type": "code",
        "outputId": "0a8bd5a5-1bc2-4da8-cd66-e1c2d734aaae",
        "colab": {
          "base_uri": "https://localhost:8080/",
          "height": 167
        }
      },
      "source": [
        "Chem.MolFromSmiles('c1ccccccc1') #anti-aromatic"
      ],
      "execution_count": 0,
      "outputs": [
        {
          "output_type": "execute_result",
          "data": {
            "image/png": "[encoded data removed]",
            "text/plain": [
              "<rdkit.Chem.rdchem.Mol at 0x7fe61e580c10>"
            ]
          },
          "metadata": {
            "tags": []
          },
          "execution_count": 62
        }
      ]
    },
    {
      "cell_type": "markdown",
      "metadata": {
        "id": "K9GDGbGQnH0_",
        "colab_type": "text"
      },
      "source": [
        "그러나 c1cccc1과 같은 일부 입력은 정확하지 않을 수도 있고 불가능할 수도 있습니다. 여기서 탄소 원자 중 하나가 2개의 수소가 부착된 $sp^{3}$이기 때문에 c1cccc1은 C1=CCC=C1으로 전환될 수 없다. 이러한 구조에서 단일 및 이중결합이 교대로 이루어질 수 없기 때문에 SMILES 시스템은 이를 \"불가능한\" 입력이라고 표시합니다. 또한 고리 밖에 있는 이중결합은 방향성을 파괴하지 않는다."
      ]
    },
    {
      "cell_type": "code",
      "metadata": {
        "id": "FRvrMY9Em0JG",
        "colab_type": "code",
        "outputId": "a4f416ad-ebe2-4a83-dd63-a48bc41ad8b4",
        "colab": {
          "base_uri": "https://localhost:8080/",
          "height": 52
        }
      },
      "source": [
        "Chem.MolFromSmiles('c1cccc1') #aromatic으로 입력했지만 aromatic이 아니기에 오류가 발생"
      ],
      "execution_count": 0,
      "outputs": [
        {
          "output_type": "stream",
          "text": [
            "RDKit ERROR: [16:08:38] Can't kekulize mol.  Unkekulized atoms: 0 1 2 3 4\n",
            "RDKit ERROR: \n"
          ],
          "name": "stderr"
        }
      ]
    },
    {
      "cell_type": "code",
      "metadata": {
        "id": "28jC0UAQoUhh",
        "colab_type": "code",
        "outputId": "b9b25602-8331-423f-a242-e576f595fe1d",
        "colab": {
          "base_uri": "https://localhost:8080/",
          "height": 167
        }
      },
      "source": [
        "Chem.MolFromSmiles('C1=CCC=C1') #aliphatic"
      ],
      "execution_count": 0,
      "outputs": [
        {
          "output_type": "execute_result",
          "data": {
            "image/png": "[encoded data removed]",
            "text/plain": [
              "<rdkit.Chem.rdchem.Mol at 0x7fe61e580490>"
            ]
          },
          "metadata": {
            "tags": []
          },
          "execution_count": 64
        }
      ]
    },
    {
      "cell_type": "markdown",
      "metadata": {
        "id": "eKwtBEQrooRk",
        "colab_type": "text"
      },
      "source": [
        "몇가지 추가적인 aromatic"
      ]
    },
    {
      "cell_type": "code",
      "metadata": {
        "id": "iqo0mEcQonTW",
        "colab_type": "code",
        "outputId": "70c6c93a-2d21-4862-ed45-ec7b7bd66ad3",
        "colab": {
          "base_uri": "https://localhost:8080/",
          "height": 167
        }
      },
      "source": [
        "Chem.MolFromSmiles('c1cocc1')"
      ],
      "execution_count": 0,
      "outputs": [
        {
          "output_type": "execute_result",
          "data": {
            "image/png": "[encoded data removed]",
            "text/plain": [
              "<rdkit.Chem.rdchem.Mol at 0x7fe61e5804e0>"
            ]
          },
          "metadata": {
            "tags": []
          },
          "execution_count": 65
        }
      ]
    },
    {
      "cell_type": "code",
      "metadata": {
        "id": "DYuq5qjVoigr",
        "colab_type": "code",
        "outputId": "c30ca59e-cd43-4f67-8a59-a7a337ce66a7",
        "colab": {
          "base_uri": "https://localhost:8080/",
          "height": 167
        }
      },
      "source": [
        "Chem.MolFromSmiles('c1cnc[nH]c(=O)1')"
      ],
      "execution_count": 0,
      "outputs": [
        {
          "output_type": "execute_result",
          "data": {
            "image/png": "[encoded data removed]",
            "text/plain": [
              "<rdkit.Chem.rdchem.Mol at 0x7fe61e572ad0>"
            ]
          },
          "metadata": {
            "tags": []
          },
          "execution_count": 66
        }
      ]
    },
    {
      "cell_type": "code",
      "metadata": {
        "id": "fnQmgS50o64e",
        "colab_type": "code",
        "outputId": "7162e341-6754-4e20-ec19-6df893f1131c",
        "colab": {
          "base_uri": "https://localhost:8080/",
          "height": 167
        }
      },
      "source": [
        "Chem.MolFromSmiles('c1c*ccc1') # *은 와일드카드"
      ],
      "execution_count": 0,
      "outputs": [
        {
          "output_type": "execute_result",
          "data": {
            "image/png": "[encoded data removed]",
            "text/plain": [
              "<rdkit.Chem.rdchem.Mol at 0x7fe61e579a30>"
            ]
          },
          "metadata": {
            "tags": []
          },
          "execution_count": 67
        }
      ]
    },
    {
      "cell_type": "code",
      "metadata": {
        "id": "l_r_OUakpCBo",
        "colab_type": "code",
        "outputId": "023e57ef-706d-4863-fa23-e8a0037f120f",
        "colab": {
          "base_uri": "https://localhost:8080/",
          "height": 167
        }
      },
      "source": [
        "Chem.MolFromSmiles('[cH-]1cccc1')"
      ],
      "execution_count": 0,
      "outputs": [
        {
          "output_type": "execute_result",
          "data": {
            "image/png": "[encoded data removed]",
            "text/plain": [
              "<rdkit.Chem.rdchem.Mol at 0x7fe61e588300>"
            ]
          },
          "metadata": {
            "tags": []
          },
          "execution_count": 68
        }
      ]
    },
    {
      "cell_type": "markdown",
      "metadata": {
        "id": "7pOhwEzepcWk",
        "colab_type": "text"
      },
      "source": [
        "### 4.3 Aromatic Nitrogen Compounds(방향족 질소 화합물)\n",
        "방향족 질소의 경우 방향족 질소 기호인 n으로 지정될 수 있다."
      ]
    },
    {
      "cell_type": "code",
      "metadata": {
        "id": "s920sZz5pNOl",
        "colab_type": "code",
        "outputId": "fac2f566-c47d-4c9c-8551-c09bf964cf36",
        "colab": {
          "base_uri": "https://localhost:8080/",
          "height": 167
        }
      },
      "source": [
        "Chem.MolFromSmiles('n1ccccc1') # pyridine"
      ],
      "execution_count": 0,
      "outputs": [
        {
          "output_type": "execute_result",
          "data": {
            "image/png": "[encoded data removed]",
            "text/plain": [
              "<rdkit.Chem.rdchem.Mol at 0x7fe61e588440>"
            ]
          },
          "metadata": {
            "tags": []
          },
          "execution_count": 69
        }
      ]
    },
    {
      "cell_type": "code",
      "metadata": {
        "id": "86d8tNInqAqq",
        "colab_type": "code",
        "outputId": "e07880de-6220-47f6-98d9-5e600b1dd02b",
        "colab": {
          "base_uri": "https://localhost:8080/",
          "height": 167
        }
      },
      "source": [
        "Chem.MolFromSmiles('O=n1ccccc1') # pyridine-N-oxide"
      ],
      "execution_count": 0,
      "outputs": [
        {
          "output_type": "execute_result",
          "data": {
            "image/png": "[encoded data removed]",
            "text/plain": [
              "<rdkit.Chem.rdchem.Mol at 0x7fe61e588580>"
            ]
          },
          "metadata": {
            "tags": []
          },
          "execution_count": 70
        }
      ]
    },
    {
      "cell_type": "code",
      "metadata": {
        "id": "HHY23UWPqJSo",
        "colab_type": "code",
        "outputId": "9bc9c914-de58-40e9-f87c-9b7c59943df4",
        "colab": {
          "base_uri": "https://localhost:8080/",
          "height": 167
        }
      },
      "source": [
        "Chem.MolFromSmiles('Cn1cccc1') # methylpyrrole"
      ],
      "execution_count": 0,
      "outputs": [
        {
          "output_type": "execute_result",
          "data": {
            "image/png": "[encoded data removed]",
            "text/plain": [
              "<rdkit.Chem.rdchem.Mol at 0x7fe61e588350>"
            ]
          },
          "metadata": {
            "tags": []
          },
          "execution_count": 71
        }
      ]
    },
    {
      "cell_type": "code",
      "metadata": {
        "id": "sNO49F9HqZ8i",
        "colab_type": "code",
        "outputId": "a96ea2e0-05f0-471e-be1a-e3fcc1c8f484",
        "colab": {
          "base_uri": "https://localhost:8080/",
          "height": 167
        }
      },
      "source": [
        "Chem.MolFromSmiles('[nH]1cccc1') # pyrrole"
      ],
      "execution_count": 0,
      "outputs": [
        {
          "output_type": "execute_result",
          "data": {
            "image/png": "[encoded data removed]",
            "text/plain": [
              "<rdkit.Chem.rdchem.Mol at 0x7fe61e588530>"
            ]
          },
          "metadata": {
            "tags": []
          },
          "execution_count": 72
        }
      ]
    },
    {
      "cell_type": "code",
      "metadata": {
        "id": "UJdUFmpJHUA8",
        "colab_type": "code",
        "colab": {
          "base_uri": "https://localhost:8080/",
          "height": 53
        },
        "outputId": "c492b722-731b-42bb-a1d7-75f6add3e5c1"
      },
      "source": [
        "Chem.MolFromSmiles('n1cccc1') # pyrrole"
      ],
      "execution_count": 126,
      "outputs": [
        {
          "output_type": "stream",
          "text": [
            "RDKit ERROR: [12:37:37] Can't kekulize mol.  Unkekulized atoms: 0 1 2 3 4\n",
            "RDKit ERROR: \n"
          ],
          "name": "stderr"
        }
      ]
    },
    {
      "cell_type": "markdown",
      "metadata": {
        "id": "5SwIzNsSHWeR",
        "colab_type": "text"
      },
      "source": [
        "nH를 사용하지 않으면 결합을 확실히 알 수 없기 문에 오류가 난다."
      ]
    },
    {
      "cell_type": "markdown",
      "metadata": {
        "id": "0EKBMImQs9-d",
        "colab_type": "text"
      },
      "source": [
        "pyrrole의 질소는 pyridine의 질소와 구별하기 위해서 **[nH]**라고 쓴다."
      ]
    },
    {
      "cell_type": "markdown",
      "metadata": {
        "id": "IIJcaQX4vFhL",
        "colab_type": "text"
      },
      "source": [
        "### 4.4 Bonding Conventions (결합 관례)\n",
        "SMILES는 분자 구조를 모델링하기 위해 어떤 원자가 규칙을 사용해야하는지 지시하지 않습니다.SMILES를 사용하면 동일한 구조를 다양한 모델로 설명할 수 있고 원하는대로 원자의 전하를 나타낼 수 있다는 장점이 있습니다."
      ]
    },
    {
      "cell_type": "code",
      "metadata": {
        "id": "A8n7B8kGrQCK",
        "colab_type": "code",
        "outputId": "cdef3aee-5b62-4c79-dd12-e4c355b0dd8c",
        "colab": {
          "base_uri": "https://localhost:8080/",
          "height": 167
        }
      },
      "source": [
        "Chem.MolFromSmiles('CN(=O)=O') # nitromethane"
      ],
      "execution_count": 0,
      "outputs": [
        {
          "output_type": "execute_result",
          "data": {
            "image/png": "[encoded data removed]",
            "text/plain": [
              "<rdkit.Chem.rdchem.Mol at 0x7fe61e588990>"
            ]
          },
          "metadata": {
            "tags": []
          },
          "execution_count": 73
        }
      ]
    },
    {
      "cell_type": "code",
      "metadata": {
        "id": "-3nmsnthxaQV",
        "colab_type": "code",
        "outputId": "022877c5-73b0-4ddc-b4dd-09d11549c6b2",
        "colab": {
          "base_uri": "https://localhost:8080/",
          "height": 167
        }
      },
      "source": [
        "Chem.MolFromSmiles('C[N+](=O)[O-]') # nitromethane"
      ],
      "execution_count": 0,
      "outputs": [
        {
          "output_type": "execute_result",
          "data": {
            "image/png": "[encoded data removed]",
            "text/plain": [
              "<rdkit.Chem.rdchem.Mol at 0x7fe61e588a80>"
            ]
          },
          "metadata": {
            "tags": []
          },
          "execution_count": 74
        }
      ]
    },
    {
      "cell_type": "markdown",
      "metadata": {
        "id": "RcNwXQV4h-55",
        "colab_type": "text"
      },
      "source": [
        "일반적으로 대칭성이 문제가 되지 않는 경우 특이한 원자가 상태에서 원자를 나타내는 것을 피할 수 있으면 전하 분리 구조를 선호합니다. 예를 들어 diazomethane은 C=[N]=[N]보다 C=[N+]=[N-]로 하는 것을 선호합니다."
      ]
    },
    {
      "cell_type": "code",
      "metadata": {
        "id": "DvA3LY_WHGkG",
        "colab_type": "code",
        "colab": {
          "base_uri": "https://localhost:8080/",
          "height": 35
        },
        "outputId": "0d5b0ff9-a912-4a90-cbec-d0d9f622fb74"
      },
      "source": [
        "Chem.MolFromSmiles('C=N=N') # diazomethane"
      ],
      "execution_count": 125,
      "outputs": [
        {
          "output_type": "stream",
          "text": [
            "RDKit ERROR: [12:37:03] Explicit valence for atom # 1 N, 4, is greater than permitted\n"
          ],
          "name": "stderr"
        }
      ]
    },
    {
      "cell_type": "code",
      "metadata": {
        "id": "NPLxuVZdxeyd",
        "colab_type": "code",
        "outputId": "8a171319-9372-43a1-cd4a-e18daea330bd",
        "colab": {
          "base_uri": "https://localhost:8080/",
          "height": 167
        }
      },
      "source": [
        "Chem.MolFromSmiles('C=[N+]=[N-]') # diazomethane"
      ],
      "execution_count": 0,
      "outputs": [
        {
          "output_type": "execute_result",
          "data": {
            "image/png": "[encoded data removed]",
            "text/plain": [
              "<rdkit.Chem.rdchem.Mol at 0x7fe61e580210>"
            ]
          },
          "metadata": {
            "tags": []
          },
          "execution_count": 75
        }
      ]
    },
    {
      "cell_type": "markdown",
      "metadata": {
        "id": "BfArgUR-j1eD",
        "colab_type": "text"
      },
      "source": [
        "### 4.5 Tautomers\n",
        "Tautomeric 구조는 SMILES에서 명확하게 지정된다. \"tautomeric bond\", \"mobile hydrogen\", \"mobile charge\"에 대해 정해진 것은 없다. 하나의 tautomeric form을 고려할 때 대부분의 화학 정보 시스템은 필요한 경우 알려진 모든 tautomer에 대한 데이터를 보고할 것이다. SMILES의 역할은 요청된 tautomeric form과 데이터가 있는 위치를 정확히 지정하는 것이다."
      ]
    },
    {
      "cell_type": "code",
      "metadata": {
        "id": "NoHoHqaUiqji",
        "colab_type": "code",
        "outputId": "33168137-df2e-4bbc-d163-5f4cbe0178a8",
        "colab": {
          "base_uri": "https://localhost:8080/",
          "height": 167
        }
      },
      "source": [
        "Chem.MolFromSmiles('O=c1[nH]cccc1') # 2-pyridone"
      ],
      "execution_count": 0,
      "outputs": [
        {
          "output_type": "execute_result",
          "data": {
            "image/png": "[encoded data removed]",
            "text/plain": [
              "<rdkit.Chem.rdchem.Mol at 0x7fe61e572c60>"
            ]
          },
          "metadata": {
            "tags": []
          },
          "execution_count": 76
        }
      ]
    },
    {
      "cell_type": "code",
      "metadata": {
        "id": "wUk3NCZNkyoR",
        "colab_type": "code",
        "outputId": "6c345448-3362-4fe7-98ca-151bd3682257",
        "colab": {
          "base_uri": "https://localhost:8080/",
          "height": 167
        }
      },
      "source": [
        "Chem.MolFromSmiles('Oc1ncccc1') # 2-pyridinol"
      ],
      "execution_count": 0,
      "outputs": [
        {
          "output_type": "execute_result",
          "data": {
            "image/png": "[encoded data removed]",
            "text/plain": [
              "<rdkit.Chem.rdchem.Mol at 0x7fe61e588ad0>"
            ]
          },
          "metadata": {
            "tags": []
          },
          "execution_count": 78
        }
      ]
    },
    {
      "cell_type": "markdown",
      "metadata": {
        "id": "5U4ei07JAuCU",
        "colab_type": "text"
      },
      "source": [
        "참고 자료  \n",
        "https://www.daylight.com/dayhtml/doc/theory/theory.smiles.html\n",
        "\n",
        " \n",
        "https://www.daylight.com/dayhtml_tutorials/languages/smiles/index.html\n",
        "\n",
        "rdkit download\n",
        "\n",
        "https://gist.github.com/philopon/a75a33919d9ae41dbed5bc6a39f5ede2"
      ]
    },
    {
      "cell_type": "markdown",
      "metadata": {
        "id": "fti7qHBNIDz1",
        "colab_type": "text"
      },
      "source": [
        "SMILES Database\n",
        "\n",
        "- [GDB Databases](http://gdb.unibe.ch/downloads/)\n",
        "\n",
        "출처를 명시한다는 조건하에 무료로 다운로드가 가능한 데이터베이스\n",
        "\n",
        "- [DrugCentral](http://drugcentral.org/download)\n",
        "\n",
        "CAS 등록 번호(CAS Registry Number[1], CASRN 또는 CAS 번호)는 이제까지 알려진 모든 화합물, 중합체 등을 기록하는 번호이다. 미국 화학회 American Chemical Society에서 운영하는 서비스이며, 모든 화학 물질을 중복 없이 찾을 수 있도록 한다.\n"
      ]
    },
    {
      "cell_type": "code",
      "metadata": {
        "id": "mk3SLb4L6yMg",
        "colab_type": "code",
        "outputId": "1d815ed5-5219-4b03-8796-a33f2e71b226",
        "colab": {
          "base_uri": "https://localhost:8080/",
          "height": 269
        }
      },
      "source": [
        "import pandas as pd\n",
        "\n",
        "dataset = pd.read_csv(\"structures.smiles.tsv\", delimiter='\\t', header=0)\n",
        "\n",
        "print(dataset)"
      ],
      "execution_count": 0,
      "outputs": [
        {
          "output_type": "stream",
          "text": [
            "                                                 SMILES  ...        CAS_RN\n",
            "0                 CCCCN1CCCC[C@H]1C(=O)NC1=C(C)C=CC=C1C  ...    27262-47-1\n",
            "1     COC(=O)C1=C(C)NC(C)=C([C@H]1C1=CC(=CC=C1)[N+](...  ...    76093-36-2\n",
            "2     CCOC(=O)C1=C(C)NC(C)=C([C@@H]1C1=CC(=CC=C1)[N+...  ...    80873-62-7\n",
            "3         C[C@@H](CCC1=CC=C(O)C=C1)NCCC1=CC=C(O)C(O)=C1  ...    61661-06-1\n",
            "4     NC1=NC2=NC=C(CNC3=CC=C(C=C3)C(=O)N[C@@H](CCC(O...  ...       54-62-6\n",
            "...                                                 ...  ...           ...\n",
            "3976  CC[C@H](C)[C@H](NC(=O)[C@H](CC1=CC=C(O)C=C1)NC...  ...     4474-91-3\n",
            "3977  OC1=C2N(C[C@H]3O[C@@H]4CC[C@@H](C4)N3C2=O)C=C(...  ...  1611493-60-7\n",
            "3978  CC(C)(CO)C1=CC2=C(C=C(F)C(NC(=O)C3(CC3)C3=CC=C...  ...  1152311-62-0\n",
            "3979  CCCCC1(CCCC)CN(C2=CC=CC=C2)C2=C(C=C(OCC(=O)N[C...  ...   439087-18-0\n",
            "3980  CNC(=O)C1=CC=C(C=C1F)N1C(=S)N(C(=O)C11CCC1)C1=...  ...   956104-40-8\n",
            "\n",
            "[3981 rows x 6 columns]\n"
          ],
          "name": "stdout"
        }
      ]
    }
  ]
}