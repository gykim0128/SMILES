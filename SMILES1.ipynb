{
  "nbformat": 4,
  "nbformat_minor": 0,
  "metadata": {
    "colab": {
      "name": "SMILES1.ipynb",
      "provenance": [],
      "collapsed_sections": []
    },
    "kernelspec": {
      "name": "python3",
      "display_name": "Python 3"
    }
  },
  "cells": [
    {
      "cell_type": "markdown",
      "metadata": {
        "id": "GouPk2u-KrM4",
        "colab_type": "text"
      },
      "source": [
        "#SMILES-A Simplified Chemical Language\n",
        "SMILES(Simplified Moledcular Input Line Entry System)\n",
        "<br> 분자와 반응을 입력하고 나타내는 줄 표기법이다.\n",
        "SMILES는 컴퓨터 데이터 구조가 아니라 언어 구조이기 떄문에 유용하게 쓰인다. 구조에 대한 SMILES 표현은 많은 화학 정보를 포함하고 있다. 각 분자는 고유한 SMILES가 존재함으로 인하여 이것으로 인해 이 분자의 모양을 알 수 있다. 또한 SMILES를 이용하면 같은 구조를 나타내는데에 필요한 용량이 적다.\n",
        "###SMILES의 예시\n",
        "<h3>SMILES | <h3> <center>Name</center> | <h3>SMILES | <h3><center>Name</center>\n",
        "---- | ---- | ---- | ----\n",
        "<h3>CC |<h3>ethane|<h3> [OH3+] | <h3>hydronium ion\n",
        "<h3>O=C=O |<h3>carbon dioxide| <h3>[2H]O[2H] | <h3>deuterium oxide\n",
        "<h3>C#N |<h3>hydrogen cyanide(HCN)| <h3>[235U] | <h3>uranium-235\n",
        "<h3>CCN(CC)CC |<h3>triethylamine|<h3> F/C=C/F |<h3> E-difluoroethene\n",
        "<h3>CC(=O)O |<h3>acetic acid|<h3> F/C=C\\F | <h3>Z-difluoroethene\n",
        "<h3>C1CCCCC1 |<h3>cyclohexane($C_{6}H_{12}$)|<h3> N'['C@@H']'(C)C(=O)O |<h3> L-alanine\n",
        "<h3>c1ccccc1 |<h3>benzene| <h3>N'['C@H']'(C)C(=O)O |<h3> D-alanine\n",
        "\n",
        "<h3> Reaction SMILES |<h3> Name\n",
        "---- | ----\n",
        "<h3>[I-].[Na+].C=CCBr>>[Na+].[Br-].C=CCI |<h3> 치환반응\n",
        "<h3>(C(=O)O).(OCC)>>(C(=O)OCC).(O) | <h3>분자간 에스테르화\n",
        "\n",
        "###SMILES를 사용하는 예시\n",
        "\n",
        "\n",
        "1.   데이터베이스 액세스를 위한 키\n",
        "2.   연구원들이 화학 정보를 교환하는 메커니즘\n",
        "3.   화학 데이터 입력 시스템\n",
        "4.   인공 지능 또는 화학 전문가 시스템 언어의 일부 \n",
        "\n",
        "\n"
      ]
    },
    {
      "cell_type": "markdown",
      "metadata": {
        "id": "jPWdfpbvR7KX",
        "colab_type": "text"
      },
      "source": [
        "##Canoncalization(정규화)\n",
        "  SMILES는 분자 구조를 선 2차원 그림으로써 분자 구조를 나타낸다. 카이랄 또는 동위 원소 정보는 없이 원자 및 결합만 나타내는 SMILES를 generic SMILES이라고 하고 하나의 특수한 일반 SMILES를 생성하기 위한 표준화 알고리즘을 Unique SMILES라고 하고 동위 원소 및 카이랄을 나타내는 SMILES를 isomeric SMILES라고 한다. Unique isomeric SMILES를 absolute SMILES라고 한다.\n",
        "\n",
        "<h3>Input SMILES | <h3>Unique SMILES\n",
        "---- | ----\n",
        "<h3>OCC | <h3>CCO\n",
        "<h3>[CH3][CH2][OH] | <h3>CCO\n",
        "<h3>C-C-O | <h3>CCO\n",
        "<h3>C(O)C | <h3>CCO\n",
        "<h3>OC(=O)C(Br)(Cl)N | <h3>NC(Cl)(Br)C(=O)O\n",
        "<h3>ClC(Br)(N)C(=O)0 | <h3>NC(Cl)(Br)C(=O)O\n",
        "<h3>O=C(O)C(N)(Br)Cl | <h3>NC(Cl)(Br)C(=O)O"
      ]
    },
    {
      "cell_type": "markdown",
      "metadata": {
        "id": "gsr3uhM-Y6bA",
        "colab_type": "text"
      },
      "source": [
        "##2 SMILES Specification Rules(SMILES 명시 규칙)\n",
        "\n",
        "SMILES 표기법은 공백이 없는 일련의 문자로 구성되고 수소 원자는 생략되거나 포함 될 수 있다. 방향족 구조는 직접  또는 Kekule 방식으로 나타낼 수 있다. SMILES 인코딩 규칙에는 원자, 결합, 가지, 고리 ecification Rules(SMILES 명시 규칙)\n",
        "\n",
        "SMILES 표기법은 공백이 없는 일련의 문자로 구성되고 수소 원자는 생략되거나 포함 될 수 있다. 방향족 구조는 직접  또는 Kekule 방식으로 나타낼 수 있다. SMILES 인코딩 규칙에는 일반적으로 원자, 결합, 가지, 고리 닫힘, 단절 다섯 가지가 있다.\n",
        "\n",
        "\n"
      ]
    },
    {
      "cell_type": "markdown",
      "metadata": {
        "id": "bfaRbQ_TbB9M",
        "colab_type": "text"
      },
      "source": [
        "###2.1 Atom(원자)\n",
        "\n",
        "원자는 원자 기호로 표시되어지고 SMILES에서 유일하게 필요한 문자 사용이다. 수소가 아닌 원자는 []로 묶인 원자 기호로 독립적으로 나타낼 수 있다. organic subset인 B,C,N,O,P,S,F,Cl,Br,I 는 부착된 수소의 수가 최저 원자가를 따르는 경우 괄호 없이 나타낼 수 있다. 여기서 최저 원자가는 B(3),C(4),N(3,5),O(2),P(3,5),S(2,4,6),할로젠 원소(1)으로 나타내어 지는 것을 말한다. 지방족 탄소는 대문자 C로 나타내어지고 방향족 탄소는 소문자 c로 나타낸다.\n",
        "\n",
        "ex)괄호없이 쓸 수 있는 SMILES\n",
        "\n",
        "<h3>SMILES |<h3> Name |<h3> Chemial formula\n",
        "---- | ---- | ----\n",
        "<h3>C |<h3> methane | <h3>(CH4)\n",
        "<h3>P | <h3>phosphine | <h3>(PH3)\n",
        "<h3>N | <h3>ammonia | <h3>(NH3)\n",
        "<h3>S |<h3> hydrogen sulfide | <h3>(H2S)\n",
        "<h3>O |<h3> water | <h3>(H2O)\n",
        "<h3>Cl | <h3>hydrochloric acid | <h3>(HCl)\n",
        "\n",
        "\n",
        "ex)괄호가 있어야 쓸 수 있는 SMILES\n",
        "<h3>SMILES |<h3> Name\n",
        "---- | ----\n",
        "<h3>$[S]$ | <h3>elemental sulfur\n",
        "<h3>$[Au]$ | <h3>elemental gold\n",
        "<h3>$[H]$ | <h3>Hydrogen Atom\n",
        "<h3>$[C]$ | <h3>elemental carbon(Graphite)\n",
        "\n",
        "괄호안에서 부착 된 수소와 전하는 항상 지정되어야한다. 부착 된 수소의 수는 기호 H와 선택적 숫자로 표시가 되고 전하는 +또는 - 기호 중 한나와 숫자로 표시되어진다. 지정되지 않은 경우 전하는 0으로 가정되어지고 숫자를 이용하지 않고 +나 -를 그 수만큼 사용하여 나타내어도 된다. ex) [Fe+++]=[Fe+3]\n",
        "\n",
        "ex)SMILES로 나타낸 전하\n",
        "<h3>Atoms |<h3> Name\n",
        "---- | ----\n",
        "<h3>[H+] |<h3> proton\n",
        "<h3>[Fe+2] |<h3> iron (II)cation\n",
        "<h3>[Fe++] |<h3>iron (II)cation\n",
        "<h3>[OH-]|<h3> hydroxyl anion\n",
        "<h3>[OH3+] |<h3> hydronium cation\n",
        "<h3>[NH4+] |<h3> ammonium cation\n",
        "<h3>[Co+2] or [Co++] |<h3> Cobalt(II)"
      ]
    },
    {
      "cell_type": "markdown",
      "metadata": {
        "id": "Jd8f2Q8DeY2N",
        "colab_type": "text"
      },
      "source": [
        "###2.2 Bonds(결합)\n",
        "단일, 이중, 삼중 및 방향족 결합은 각각 -,=,# 및 : 으로 표시된다. 인접 원자는 단일 또는 방향족 결합에 의해 서로 연결되어 있는 것으로 가정된다. 단일 및 방향족 결합은 항상 생략 될 수 있다.\n",
        "\n",
        "ex) 결합을 나타내는 SMILES\n",
        "\n",
        "<h3>SMILE |<h3> Name | <h3>chemical fomula\n",
        "---- | ---- | ----\n",
        "<h3>CC |<h3> ethane | <h3>(CH3CH3)\n",
        "<h3>C=O | <h3>formaldehyde |<h3> (CH2O)\n",
        "<h3>C=C |<h3>ethene |<h3> (CH2=CH2)\n",
        "<h3>O=C=O | <h3>carbon dioxide |<h3> (CO2)\n",
        "<h3>COC |<h3> dimethyl ether |<h3> (CH3OCH3)\n",
        "<h3>C#N | <h3>hydrogen cyanide |<h3> (HCN)\n",
        "<h3>CCO or C-C-O | <h3>ethanol | <h3>(CH3CH2OH)\n",
        "<h3>[H][H] | <h3>molecular hydrogen |<h3> (H2)"
      ]
    },
    {
      "cell_type": "markdown",
      "metadata": {
        "id": "QR1jDFyXlWSk",
        "colab_type": "text"
      },
      "source": [
        "선형 구조의 경우, SMILES 표기법은 수소 및 단일 결합이 일반적으로 생략된다는 점을 제외하고는 일반적인 표기법에 해당된다. ex) 6-hydroxy-1,4-hexadiene은 여러가지의 SMILES로 나타낼 수 있다.\n",
        "<h3>Structure |<h3> Vaild SMILES\n",
        "---- | ----\n",
        " | <h3>C=CCC=CCO\n",
        "<h3>CH2=CH-CH2-CH=CH-CH2-OH |<h3> C=C-C-C=C-C-O\n",
        " | <h3>OCC=CCC=C"
      ]
    },
    {
      "cell_type": "markdown",
      "metadata": {
        "id": "a69xYswunOEU",
        "colab_type": "text"
      },
      "source": [
        "###2.3 Branch(가지)\n",
        "\n",
        "가지는 소괄호로 묶어 지정되고 중첩되거나 쌓일 수 있다. 소괄호로 묶은 식에 대한 연결은 왼쪾에 나타내어준다.\n",
        "\n",
        "<h3>Triethylamine |<h3> Isobutyric acid |<h3> 3-propyl-4-isopropyl-1-heptene\n",
        "---- | ---- | ----\n",
        "![Triethylamine](http://www.daylight.com/dayhtml/doc/theory/theory1.gif) | ![ Isobutyric acid](http://www.daylight.com/dayhtml/doc/theory/theory2.gif) | ![3-propyl-4-isopropyl-1-heptene](http://www.daylight.com/dayhtml/doc/theory/theory3.gif)\n",
        "<h3>CCN(CC)CC |<h3> CC(C)C(=O)O |<h3> C=CC(CCC)C(C(C)C)CCC <br>\n",
        "\n",
        "ex)\n",
        "<h3>Image |<h3>SMILES |<h3> name\n",
        "---- | ---- | ----\n",
        " ![Fluoroform](https://www.daylight.com/dayhtml_tutorials/smi2gifImages/fluoroform.gif)| <h3>C(F)(F)F or FC(F)F|<h3>Fluoroform   \n",
        " ![4-Heptanoic Acid](https://www.daylight.com/dayhtml_tutorials/smi2gifImages/heptanoic.gif)|<h3> CCCC(C(=O)O)CCC  | <h3>4-Heptanoic Acid  \n",
        " ![Acetic Acid](https://www.daylight.com/dayhtml_tutorials/smi2gifImages/acetic.gif)| <h3> CC(=O)O |  <h3>Acetic Acid"
      ]
    },
    {
      "cell_type": "markdown",
      "metadata": {
        "id": "va7ybSeSo11K",
        "colab_type": "text"
      },
      "source": [
        "### 2.4 Cyclic Structures(순환 구조)\n",
        "고리 구조는 각 고리에서 하나의 결합을 끊는 것으로 표현되어진다. 고리 폐쇄를 원자 기호 바로 다음에 숫자를 넣어주는것으로 고리 개방을 나타내어 준다. \n",
        "\n",
        "ex)Cyclohexane\n",
        "\n",
        "![Cyclohexane](http://www.daylight.com/dayhtml/doc/theory/theory4.gif)\n",
        "\n"
      ]
    },
    {
      "cell_type": "markdown",
      "metadata": {
        "id": "RsfjUnwQp3EA",
        "colab_type": "text"
      },
      "source": [
        "동일 구조에 대해 다양한 방법으로 나타낼 수 있다.\n",
        "ex)1-methyl-3-bromo-cyclohexene-1\n",
        "![1-methyl-3-bromo-cyclohexene-1](http://www.daylight.com/dayhtml/doc/theory/theory5.gif)\n",
        "\n",
        "(a) Br을 가지로 본 경우 , (b) (CC1)을 가지로 본 경우\n",
        "\n"
      ]
    },
    {
      "cell_type": "markdown",
      "metadata": {
        "id": "AZHCJ4pIq82c",
        "colab_type": "text"
      },
      "source": [
        "단일 원자는 둘 이상의 고리 폐쇄를 가질 수 있다.\n",
        "\n",
        "ex)cubane\n",
        "\n",
        "![Atom with 2ring](http://www.daylight.com/dayhtml/doc/theory/theory6.gif) <br><br>\n",
        "\n",
        "필요한 경우, 고리 닫힘을 나타내는 숫자를 재사용 할 수 있다. \n",
        "\n",
        "![reuse#](http://www.daylight.com/dayhtml/doc/theory/theory7.gif)\n",
        "<br><br>\n",
        "O1CCCCC1N1CCCCC1\n",
        "\n",
        "고리 닫힘의 숫자 재사용으로 인하여 10개 이상의 고리를 가지는 구조를 나타 낼 수 있다. 필요하거나 원하는 경우, % 로 두 자리 숫자를 앞에 두어 더 높은 번호의 고리 마감을 지정할 수 있습니다. ex)C2%13%24 는 고리 닫힘 2, 13 및 24를 갖는 탄소 원자이다.\n",
        "\n",
        "ex)\n",
        "<h3>Image |<h3>SMILES |<h3> name\n",
        "---- | ---- | ----\n",
        " ![Cyclohexane](https://www.daylight.com/dayhtml_tutorials/smi2gifImages/cyclohexane.gif)| <h3>C1CCCCC1|<h3>Cyclohexane\n",
        " ![Decalin](https://www.daylight.com/dayhtml_tutorials/smi2gifImages/decalin.gif)|<h3>C12CCCCC1CCCC2 or<br>  C1CC2CCCCC2CC1  | <h3>Decalin  \n",
        " ![Bicyclohexane](https://www.daylight.com/dayhtml_tutorials/smi2gifImages/bicyclohexane.gif)| <h3> C1CCCCC1C1CCCCC1 |  <h3>Bicyclohexane\n",
        "![Cyclohexene](https://www.daylight.com/dayhtml_tutorials/smi2gifImages/cyclohexene.gif)| <h3> C1=CCCCC1 or <br> C=1CCCCC1 or <br> C1CCCCC=1 or <br>  C=1CCCCC=1 |  <h3>Cyclohexene"
      ]
    },
    {
      "cell_type": "markdown",
      "metadata": {
        "id": "F89tDbRVt1Nm",
        "colab_type": "text"
      },
      "source": [
        "###2.5 Disconnected Structures(분리된 구조)\n",
        "분리된 화합물은 \".\"을 이용하여 구분 된 개별 구조로 작성된다. 이온 또는 리간드(ligand)가 나열되는 순서는 임의적이다. 한 전하와 다른 전하가 연결되어 있지 않으며 또한 전하를 띄지 않을 필요는 없다. 하나의 이온 SMILES는 다른 이온 내에 매립 될 수 있다. \n",
        "\n",
        "ex)sodium phenoxide\n",
        "\n",
        "![sodium phenoxide](http://www.daylight.com/dayhtml/doc/theory/theory8.gif)\n",
        "<br><br>\n",
        "\n",
        "<h3>SMILE |<h3> Name | <h3>chemical fomula\n",
        "---- | ---- | ----\n",
        "<h3>CCO.O |<h3> Ethanol and Water | <h3>(CH3CH3)\n",
        "<h3>[Na+].[Cl-] | <h3>Sodium Chloride |<h3> (NaCl)\n",
        "\n",
        "\n",
        "\n",
        "같은 자리수를 가지는 원자쌍은 서로 결합되어 있음을 의미한다. 결합은 명시적(결합 기호 및 /또닌 고리 닫힘 앞의 방향) 또는 암시적(비 방향성 단일 또는 방향족 결합)일 수 있다. 이것은 결합이 고리의 일부로 끝나는 것과 상관없이 적용된다.\n"
      ]
    },
    {
      "cell_type": "markdown",
      "metadata": {
        "id": "klaIk8Xowe1k",
        "colab_type": "text"
      },
      "source": [
        "##3.3 Isomeric SMILES(이성질체 SMILES)\n",
        "\n",
        "SMILES의 이성질체 규칙을 사용하면 알려진 구조에 대해 카이랄성을 지정할 수 있다. CIP 및 IUPAC와 같은 대부분의 기존 화학 명명법과 달리 이 규칙은 엄격한 카이랄성 부분SMILES의 이성질체 규칙을 사용하면 알려진 구조에 대해 카이랄성을 지정할 수 있다. CIP 및 IUPAC와 같은 대부분의 기존 화학 명명법과 달리 이 규칙은 엄격한 카이랄성 부분적 명SMILES의 이성질체 규칙을 사용하면 알려진 구조에 대해 카이랄성을 지정할 수 있다. CIP 및 IUPAC와 같은 대부분의 기존 화학 명명법과 달리 이 규칙은 엄격한 카이랄성 부분SMILES의 이성질체 규칙을 사용하면 알려진 구조에 대해 카이랄성을 지정할 수 있다. CIP 및 IUPAC와 같은 대부분의 기존 화학 명명법과 달리 이 규칙은 엄격한 카이랄성 부분적 명시를 할 수 있다. SMILES의 모든 이성질체 규칙은 선택 사항이고 이러한 내용이 들어가 있지 않는다면 지정된 값이 없다는 것을 의미한다.\n"
      ]
    },
    {
      "cell_type": "markdown",
      "metadata": {
        "id": "3iWbXhnAxpam",
        "colab_type": "text"
      },
      "source": [
        "###3.1 Isotopic Specification(동위원소)\n",
        "\n",
        "동위 원소는 동위원소의 질량을 숫자로 원자 기호 앞에 표시한다.\n",
        "\n",
        "<h3>SMILES | <h3>Name\n",
        "---- | ----\n",
        "<h3>$[12C]$ | <h3>carbon-12\n",
        "<h3>$[13C]$ | <h3>carbon-13\n",
        "<h3>$[C]$ | <h3>carbon(unspecified mass)\n",
        "<h3>$[13CH4]$ | <h3>C-13 methane\n"
      ]
    },
    {
      "cell_type": "markdown",
      "metadata": {
        "id": "sOy3_biS4ifB",
        "colab_type": "text"
      },
      "source": [
        "###3.2 Configuration Around Double Bonds(이중결합을 둘러싼 배열)\n",
        "\n",
        "이중결합을 둘러싼 배열은 \"directional bonds(방향결합)\"을 나타내는 문자인 /와\\를 이용하여 나타낼 수 있고 단일 또는 방향족  결합의 종류로 생각할 수 있다. 기호는 연결된 원자 사이의 상대적인 방향성을 나타내며, 이중 결합 된 두 원자 모두에서 발생하는 경우에만 의미가 있다. \n",
        "<h3>E-1,2-difluoroethene | <h3>Z-1,2-difluoroethene\n",
        "---- | ----\n",
        "<h3>![E](http://www.daylight.com/dayhtml/doc/theory/theory9.gif) | <h3>![Z](http://www.daylight.com/dayhtml/doc/theory/theory10.gif)\n",
        "<h3>F/C=C/F | <h3>F/C=C\\F\n",
        "<h3>F\\C=C\\F |<h3> F\\C=C/F\n",
        "\n",
        "SMILES의 카이랄성 규약과 CIP같은 규약의 차이점은 SMILES는 부분적인 명시를 통하여 국부적으로 카이랄성을 나타낼 수 있다는 것이다.\n",
        "\n",
        "\n",
        "\n",
        "![complete](http://www.daylight.com/dayhtml/doc/theory/theory11.gif) | ![partial](http://www.daylight.com/dayhtml/doc/theory/theory12.gif)\n",
        "---- | ----\n",
        "<h3>F/C=C/C=C/C | <h3> F/C=C/C=CC\n",
        "<h3>(completely specified) | <h3>(partially specified)\n",
        "\n"
      ]
    },
    {
      "cell_type": "markdown",
      "metadata": {
        "id": "I235ZJSo8Jdj",
        "colab_type": "text"
      },
      "source": [
        "###3.3. Configuration Around Tetrahedral Centers(사면체의 중심을 포함하는 구조)\n",
        "\n",
        "SMILES는 국부적 카이랄성에 기반한 매우 일반적인 카이랄성 명시법을 사용한다. 방향은 SMILES 문자열에서 인접 항목 순으로 나타낸다. SMILES에서 사면체의 중심은 카이랄 원자의 원자 기호 다음에 @ 또는 @@ 두개를 사용하여 표시한다. 카이랄 원자에 대해 명시가 되지 않을 경우 카이랄성은 지정되지 않는다. \n",
        "\n",
        "\n",
        "\n",
        "![u.c](http://www.daylight.com/dayhtml/doc/theory/theory13.gif) | ![s.c](http://www.daylight.com/dayhtml/doc/theory/theory14.gif)\n",
        "---- | ----\n",
        "NC(C)(F)C(=O)O | N$[C@]$(C)(F)C(=O)O(anticlockwise)\n",
        "NC(F)(C)C(=O)O | N$[C@@]$(F)(C)C(=O)O(clockwise)\n",
        "unspecified chirality | specified chirality\n",
        "\n",
        " \" @ \"는 이웃하는 원자들이 시계 반대 방향으로 나열됨을 나타내고 \" @@ \"는 이웃하는 원자들이 시계 방향으로 나열되어 있음을 나타낸다.\n",
        "\n",
        " 중심 탄소가 SMILES에 첫 번째 원자가 아니고 수소가 부착되어 있으면 수소는 다음에 나오는 세 이웃 원자들 중 첫 번째 우너자로 간주되어진다. 중심 탄소가 SMILES에서 첫 번째 원자라면 내제 된 수소는 원자로 간주되어진다. 수소가 명시적으로 나타내어 질 경우 다른 원자와 같이 취급된다.\n",
        "\n",
        "<img src=\"http://www.daylight.com/dayhtml/doc/theory/theory15.gif\" width=\"200\" height=\"200\" />| <img src=\"http://www.daylight.com/dayhtml/doc/theory/theory16.gif\" width=\"200\" height=\"200\" />\n",
        "----|----\n",
        "$N[C@@]([H])(C)C(=O)O$ | $N[C@]([H])(C)C(=O)O$\n",
        "$N[C@@H](C)C(=O)O$ | $N[C@H](C)C(=O)O$\n",
        "$N[C@H](C(=O)O)C$ | $N[C@@H](C(=O)O)C$\n",
        "$[H][C@](N)(C)C(=O)O$ | $[H][C@@](N)(C)C(=O)O$\n",
        "$[C@H](N)(C)C(=O)O$ | $[C@@H](N)(C)C(=O)O$\n",
        "\n",
        "고리 닫힘 결합의 키랄 순서는 고리 닫힘 숫자가 카이랄 원자 상에 나타나는 순서에 의해 나타내어 진다.\n",
        "|![1](http://www.daylight.com/dayhtml/doc/theory/theory17.gif)|\n",
        "----\n",
        "|C$[C@H]$1CCCCO1|\n",
        "|or|\n",
        "|O1CCCC$[C@@H]$1C|\n"
      ]
    },
    {
      "cell_type": "markdown",
      "metadata": {
        "id": "W93oduLHDGic",
        "colab_type": "text"
      },
      "source": [
        "###3.4 General Chiral Specification(일반적 카이랄 사양)\n",
        "\n",
        "사면체 구조 외에 많은 종류의 카이랄성이 존재한다. 위에서 사용하였던 \"@\"기호는 일반적인 카이랄 사양 중 특별한 경우에 사용한다.\n",
        "\n",
        "일반적 카이랄 사양에는 \"@\"기호, 2문자 카이랄 클래스 표시  지표, 수적 순열 지정이 있다. 기본적인 카이랄 클래스는 각각의 차수 즉 연결 수에 따라 할당이된다. 4개의 연결에 대한 기본 클래스는 위에서 보았던 4면체(TH)이다.\n",
        "대부분의 경우 @1표시는 SMILE의 순서를 기준으로한 축에 반시계 방향으로 @2표시는 시계방향을 의미한다.\n",
        "'@@'와 '@@@'는 '@2'와'@3'으로 해석된다.\n",
        "\"@@\"및 \"@@@\" 형식의 표기법은 앞에서 전하를 나타낸 것과 같이 \"@2\"및 \"@3\"을 나타낸다.위에서 사용된 '@'와 '@@'는 '@TH1'과 '@TH2'를 간략하게 표현한 것이다. SMILES는 대칭으로 인하여 감소된 거울상 이성질체를 뜻하는 \"감소된 카이랄성\"과 중심치환으로 인해 중심이 비카이랄성이 되는 \"퇴화한 카이랄성\"을 포함하여 넓은 범위를 다룰 수 있다. SMILES 시스템은 특정 사양에 대해 고유 한 이성질체 SMILES를 생성하며 모든 유형의 키랄성에서 인식이 올바르게 작동하도록 한다.\n",
        "\n",
        " 사면체, 유사 알렌(allen-like), 정사각형, 삼각뿔, 팔면체 등의 카이랄이 있고 이 5가지 클래스는 매우 흔하고 자주 다루어 진다.\n",
        "\n",
        "\n"
      ]
    },
    {
      "cell_type": "markdown",
      "metadata": {
        "id": "jf1_9LkYZj9W",
        "colab_type": "text"
      },
      "source": [
        "####유사 알렌(allen-like) \n",
        "\n",
        "유사 엘렌 클래스의 기호는 AL로 나타낸다. 2차수의 카이랄 클래스 default이고 중심원자는 이중 결합을 가진다. 치환 된 C = C = C 구조가 가장 흔하지 만, C = C = C = C = C 구조와 같이 홀수 개의 일련의 이중 결합 원자원자도  유사 알렌에 포함된다. @ AL1 (@)과 @ AL2 (@@)을 사용하여 나타내고 치환된 원자의 중첩과 각각의 사면체의 평가에 의해 해석된다. 치환된 유사알렌 원자에 부착 된 수소는 그 원자 바로 뒤에 있는 것으로 간주되어 진다.\n",
        "\n",
        "  ![AL](http://www.daylight.com/dayhtml/doc/theory/theory18.gif) | ![substituted](http://www.daylight.com/dayhtml/doc/theory/theory19.gif)\n",
        "---- | ----\n",
        "<h3>OC(Cl)=$[C@]$=C(C)F | <h3>OC=$[C@]$=CF\n",
        "<h3>OC(Cl)=$[C@AL1]$=C(C)F | <h3>OC($[H]$)=$[C@AL1]$=C($[H]$)F"
      ]
    },
    {
      "cell_type": "markdown",
      "metadata": {
        "id": "fFwCsc14ZUAt",
        "colab_type": "text"
      },
      "source": [
        "####정사각형\n",
        "\n",
        "정사각형 클래스의 기호는 SP로 나타낸다. 사용 가능한 값은 @SP1,@SP2, SP3가 있으나 차수가 4개인 카이랄 클래스의 default는 아니고 줄여서 사용할 수가 없다. 그리고 시계방향과 반시계방향이 적용되지 않는다는 점에서 다른 클래스들과 차이를 보인다.\n",
        "\n",
        "<img src=\"http://www.daylight.com/dayhtml/doc/theory/theory20.gif\" width=\"140\" height=\"200\" /> | -\n",
        "---- | ----\n",
        "$F[Po@SP1](Cl)(Br)I$ | <h7>(SP1 lists in a \"U shape\")\n",
        "$F[Po@SP2](Br)(Cl)I$ | (SP2 lists in a \"4-shape\")\n",
        "$F[Po@SP3](Cl)(I)Br$ | (SP3 lists in a \"Z shape\")"
      ]
    },
    {
      "cell_type": "markdown",
      "metadata": {
        "id": "TKSBl8cldLVX",
        "colab_type": "text"
      },
      "source": [
        "####삼각뿔형\n",
        "\n",
        "삼격뿔 형의 클래스 기호는 TB이다. 이것은 차수가 5인 기본 카이랄 클래스이다. 가능한 값은 @TB1 ~ @TB20까지 있다. @TB1(@)은 한 축 연결에서 다른 축 연결로 나열 될 때 3개의 수평적으로 연결된 중간원자가 시계 반대 방향으로 나열됨을 나타내고 @TB2(@@)는 시계 방향으로 나열됨을 나타낸다.\n",
        "\n",
        "|![TB](http://www.daylight.com/dayhtml/doc/theory/theory21.gif)|\n",
        "----\n",
        "|<h3>S$[As@@]$(F)(Cl)(Br)C=O<br>|\n",
        "|<h3>O=C$[As@]$(F)(Cl)(Br)S<br>|"
      ]
    },
    {
      "cell_type": "markdown",
      "metadata": {
        "id": "YGRf1SC3eNp1",
        "colab_type": "text"
      },
      "source": [
        "####8면체\n",
        "\n",
        "8면체 클래스의 기호는 OH이다. 차수 6을 가지는 기본 카이랄 클래스이고 사용하는 값은 @OH1 ~ @OH30을 사용한다. @OH1(@)는 한 축연결에서 다른 축 연결로 나열될때 수평적으로 연결된 4개의 중간 원자가 반 시계 방향으로 나열됨을 나타낸다. @OH2(@@)는 시계 방향을 나타낸다.\n",
        "\n",
        "|![OH](http://www.daylight.com/dayhtml/doc/theory/theory22.gif)|\n",
        "----\n",
        "|S$[Co@@]$(F)(Cl)(Br)(I)C=O<br>|\n",
        "|O=C$[Co@]$(F)(Cl)(Br)(I)S|"
      ]
    }
  ]
}