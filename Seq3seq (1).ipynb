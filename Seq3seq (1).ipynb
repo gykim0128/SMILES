{
  "nbformat": 4,
  "nbformat_minor": 0,
  "metadata": {
    "colab": {
      "name": "Seq3seq.ipynb",
      "provenance": []
    },
    "kernelspec": {
      "name": "python3",
      "display_name": "Python 3"
    }
  },
  "cells": [
    {
      "cell_type": "markdown",
      "metadata": {
        "id": "NtqYYTvVE4kz",
        "colab_type": "text"
      },
      "source": [
        "#seq3seq\n",
        "\n",
        "seq2seq는 자료를 먼저 unlabeled data로 훈련 시킨다음 labed data를 이용하여 fingerprint를 생성한 뒤 labeled data로 지도학습을 시켰다.딥러닝을 약물 발견에 적용시키기 위해 사용되는 이용가능한 labeled 훈련 데이터는 요구되어지는 데이터 양에비해 절대적으로 부족하여 정확도가 떨어지게 된다. 정확도를 올리기 위해서는 labeled data의 수를 늘이는 방법을 생각 할 수있지만 이러한 데이터를 얻기위해 드는 비용이 매우 높기 때문에 labeled 데이터를 늘이는 것은 매우 힘들다. 이 문제를 해결하기 위해 semi-supervised deep learning modeling 즉 반지도학습 전략을 선택하였다. 이를 이용하면 딥러닝 프레임워크는 labeled data와 unlabeled data 모두에서 학습을 할 수 있고 unlabled data의 수는 거의 무한대적으로 사용할 수 있기때문에 지도학습에 비해 많은 이점이 있다. 이러한 방식을 이요한 방법을 seq3seq로 명명하였다. seq2seq는 1개의 입력과 1개의 출력을 가지는데 반해 seq3se1는 1개의 입력과 2개의 출력을 가진다. Labeled data와 unlabeled data를 보두 고려하여 우수한 추론 성능을 제공하고 앞에서 언급했듯이 unlabeled data의 수는 거의 무한으로 있기 때문에 적은 labeled data의 한정적인 수를 보완하면서 좋은 추론 능력을 낼 수 있다.\n",
        "\n",
        "###훈련(unlabeled data 와 labeled data 둘 다 사용)\n",
        "![seq3seq1](https://d3i71xaburhd42.cloudfront.net/0b940de618127f3d149fa3ca8e8bbba4b1cc425d/4-Figure2-1.png)\n",
        "\n",
        "###fingerprint(1개의 입력으로 2개의 출력이 나옴)\n",
        "![seq3seq2](https://d3i71xaburhd42.cloudfront.net/0b940de618127f3d149fa3ca8e8bbba4b1cc425d/5-Figure3-1.png)\n",
        "\n",
        "###PM2-10k\n",
        "![PM2-10k](https://d3i71xaburhd42.cloudfront.net/0b940de618127f3d149fa3ca8e8bbba4b1cc425d/6-Table2-1.png)\n",
        "###LogP\n",
        "![대체 텍스트](https://d3i71xaburhd42.cloudfront.net/0b940de618127f3d149fa3ca8e8bbba4b1cc425d/6-Table1-1.png)\n",
        "\n",
        "seq2seq의 정확도와 비교해서 seq3seq의 정확도가 증가한 것으로 보인다."
      ]
    }
  ]
}